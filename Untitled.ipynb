{
 "cells": [
  {
   "cell_type": "code",
   "execution_count": 1,
   "metadata": {},
   "outputs": [],
   "source": [
    "import pandas as pd"
   ]
  },
  {
   "cell_type": "code",
   "execution_count": 136,
   "metadata": {},
   "outputs": [],
   "source": [
    "df=pd.read_csv('yahi_hai.csv')"
   ]
  },
  {
   "cell_type": "code",
   "execution_count": 147,
   "metadata": {},
   "outputs": [
    {
     "data": {
      "text/html": [
       "<div>\n",
       "<style scoped>\n",
       "    .dataframe tbody tr th:only-of-type {\n",
       "        vertical-align: middle;\n",
       "    }\n",
       "\n",
       "    .dataframe tbody tr th {\n",
       "        vertical-align: top;\n",
       "    }\n",
       "\n",
       "    .dataframe thead th {\n",
       "        text-align: right;\n",
       "    }\n",
       "</style>\n",
       "<table border=\"1\" class=\"dataframe\">\n",
       "  <thead>\n",
       "    <tr style=\"text-align: right;\">\n",
       "      <th></th>\n",
       "      <th>Unnamed: 0</th>\n",
       "      <th>complaint_id</th>\n",
       "      <th>Complaint</th>\n",
       "      <th>clean_text</th>\n",
       "      <th>Sub_Complaint</th>\n",
       "      <th>Text</th>\n",
       "    </tr>\n",
       "  </thead>\n",
       "  <tbody>\n",
       "    <tr>\n",
       "      <th>0</th>\n",
       "      <td>0</td>\n",
       "      <td>0</td>\n",
       "      <td>Bedroll Complaints</td>\n",
       "      <td>['train', 'bogie', 'rac', 'person', 'allot', '...</td>\n",
       "      <td>\"Short supply\"</td>\n",
       "      <td>\"train no 12140; Bogie No B2  2 RAC persons ar...</td>\n",
       "    </tr>\n",
       "    <tr>\n",
       "      <th>1</th>\n",
       "      <td>1</td>\n",
       "      <td>1</td>\n",
       "      <td>Misc. Cause</td>\n",
       "      <td>['aapki', 'koi', 'plan', 'ha', 'ludhiana', 'st...</td>\n",
       "      <td>\"Misc. Cause\"</td>\n",
       "      <td>\"aapki koi Planing ha ludhiana R .Station parP...</td>\n",
       "    </tr>\n",
       "    <tr>\n",
       "      <th>2</th>\n",
       "      <td>2</td>\n",
       "      <td>2</td>\n",
       "      <td>Working of Enquiry Offices</td>\n",
       "      <td>['sr', 'citizen', 'discount', 'fare', 'tatkal'...</td>\n",
       "      <td>\"Any Other Issues (Enquiry)\"</td>\n",
       "      <td>\"Sr. Citizen discount fare in tatkal sewa from...</td>\n",
       "    </tr>\n",
       "    <tr>\n",
       "      <th>3</th>\n",
       "      <td>3</td>\n",
       "      <td>3</td>\n",
       "      <td>Maintenance / Cleanliness of coaches</td>\n",
       "      <td>['rat', 'present', 'coach', 'train', 'number',...</td>\n",
       "      <td>\"Cockroaches\"</td>\n",
       "      <td>\"RATS ARE PRESENT IN COACH B1 OF TRAIN NUMBER ...</td>\n",
       "    </tr>\n",
       "    <tr>\n",
       "      <th>4</th>\n",
       "      <td>4</td>\n",
       "      <td>3</td>\n",
       "      <td>Maintenance / Cleanliness of coaches</td>\n",
       "      <td>['coach', 'toilet', 'leak', 'vinay', 'pnr']</td>\n",
       "      <td>\"A/C &amp; Electrical fittings\"</td>\n",
       "      <td>\"12003 coach e1 toilet no 3 leaking vinay pnr ...</td>\n",
       "    </tr>\n",
       "  </tbody>\n",
       "</table>\n",
       "</div>"
      ],
      "text/plain": [
       "   Unnamed: 0  complaint_id                             Complaint  \\\n",
       "0           0             0                    Bedroll Complaints   \n",
       "1           1             1                           Misc. Cause   \n",
       "2           2             2            Working of Enquiry Offices   \n",
       "3           3             3  Maintenance / Cleanliness of coaches   \n",
       "4           4             3  Maintenance / Cleanliness of coaches   \n",
       "\n",
       "                                          clean_text  \\\n",
       "0  ['train', 'bogie', 'rac', 'person', 'allot', '...   \n",
       "1  ['aapki', 'koi', 'plan', 'ha', 'ludhiana', 'st...   \n",
       "2  ['sr', 'citizen', 'discount', 'fare', 'tatkal'...   \n",
       "3  ['rat', 'present', 'coach', 'train', 'number',...   \n",
       "4        ['coach', 'toilet', 'leak', 'vinay', 'pnr']   \n",
       "\n",
       "                  Sub_Complaint  \\\n",
       "0                \"Short supply\"   \n",
       "1                 \"Misc. Cause\"   \n",
       "2  \"Any Other Issues (Enquiry)\"   \n",
       "3                 \"Cockroaches\"   \n",
       "4   \"A/C & Electrical fittings\"   \n",
       "\n",
       "                                                Text  \n",
       "0  \"train no 12140; Bogie No B2  2 RAC persons ar...  \n",
       "1  \"aapki koi Planing ha ludhiana R .Station parP...  \n",
       "2  \"Sr. Citizen discount fare in tatkal sewa from...  \n",
       "3  \"RATS ARE PRESENT IN COACH B1 OF TRAIN NUMBER ...  \n",
       "4  \"12003 coach e1 toilet no 3 leaking vinay pnr ...  "
      ]
     },
     "execution_count": 147,
     "metadata": {},
     "output_type": "execute_result"
    }
   ],
   "source": [
    "df.head()"
   ]
  },
  {
   "cell_type": "code",
   "execution_count": 172,
   "metadata": {},
   "outputs": [
    {
     "data": {
      "text/plain": [
       "\"['train', 'bogie', 'rac', 'person', 'allot', 'single', 'berth', 'ticket', 'reservation', 'charge', 'single', 'bedding', 'provide', 'tc', 'tell', 'policy', 'railway', 'true', 'wrong', 'policy', 'pl', 'necessary', 'action', 'journey', 'date', 'complaint']\""
      ]
     },
     "execution_count": 172,
     "metadata": {},
     "output_type": "execute_result"
    }
   ],
   "source": [
    "df['clean_text'][0]"
   ]
  },
  {
   "cell_type": "code",
   "execution_count": null,
   "metadata": {},
   "outputs": [],
   "source": []
  },
  {
   "cell_type": "code",
   "execution_count": null,
   "metadata": {},
   "outputs": [],
   "source": []
  },
  {
   "cell_type": "code",
   "execution_count": null,
   "metadata": {},
   "outputs": [],
   "source": []
  },
  {
   "cell_type": "code",
   "execution_count": 173,
   "metadata": {},
   "outputs": [],
   "source": [
    "\n",
    "df['Complaint']=[str.replace('\"','') for str in df['Complaint']]\n",
    "#df=df[df.Complaint!=\"Accident Claims\"]\n",
    "#df=df[df.Complaint!=\"Feedback&Suggestions\"]\n",
    "#df=df[df.Complaint!=\"Complaint Related To Kolkata Metro \"]"
   ]
  },
  {
   "cell_type": "code",
   "execution_count": null,
   "metadata": {},
   "outputs": [],
   "source": [
    "df[\"Complaint\"]=df[word ]"
   ]
  },
  {
   "cell_type": "code",
   "execution_count": 174,
   "metadata": {},
   "outputs": [],
   "source": [
    "df=df[df.Complaint!=\"Accident Claims\"]\n",
    "df=df[df.Complaint!=\"Feedback&Suggestions\"]\n",
    "df=df[df.Complaint!=\"Complaint Related To Kolkata Metro\"]\n"
   ]
  },
  {
   "cell_type": "code",
   "execution_count": 175,
   "metadata": {},
   "outputs": [
    {
     "data": {
      "text/plain": [
       "Misc. Cause                                   40507\n",
       "Malfunctioning of Electrical Equipment        31067\n",
       "Maintenance / Cleanliness of coaches          30956\n",
       "Punctuality of Train                          28000\n",
       "Non availability of Water                     16032\n",
       "Catering and Vending Services                 14351\n",
       "Unauthorised passengers in coaches             8555\n",
       "Bedroll Complaints                             7201\n",
       "Booking of Luggage / Parcels / Goods           5642\n",
       "Refund of tickets                              4520\n",
       "Improper behaviour of commercial staff         3430\n",
       "Feedback/Suggestions                           1752\n",
       "Thefts / Pilferages                            1536\n",
       "Working of Enquiry Offices                     1409\n",
       "Allotment of seats - berths by train staff     1328\n",
       "Improper behaviour of non commercial staff     1149\n",
       "Passenger Booking                              1077\n",
       "Multiple complaints                             913\n",
       "Cleanliness at Station                          906\n",
       "Reservation Issues                              861\n",
       "Bribery and corruption                          825\n",
       "Improper behaviour of non railway staff         682\n",
       "Emergency Assistance                            319\n",
       "Complaints related to Sleeper Class             172\n",
       "Security                                        142\n",
       "Retiring Room (ONLINE)                           55\n",
       "WIFI Service                                     27\n",
       "Publicity                                        23\n",
       "parking                                          22\n",
       "Name: Complaint, dtype: int64"
      ]
     },
     "execution_count": 175,
     "metadata": {},
     "output_type": "execute_result"
    }
   ],
   "source": [
    "df.Complaint.value_counts()"
   ]
  },
  {
   "cell_type": "code",
   "execution_count": 150,
   "metadata": {},
   "outputs": [
    {
     "data": {
      "text/html": [
       "<div>\n",
       "<style scoped>\n",
       "    .dataframe tbody tr th:only-of-type {\n",
       "        vertical-align: middle;\n",
       "    }\n",
       "\n",
       "    .dataframe tbody tr th {\n",
       "        vertical-align: top;\n",
       "    }\n",
       "\n",
       "    .dataframe thead th {\n",
       "        text-align: right;\n",
       "    }\n",
       "</style>\n",
       "<table border=\"1\" class=\"dataframe\">\n",
       "  <thead>\n",
       "    <tr style=\"text-align: right;\">\n",
       "      <th></th>\n",
       "      <th>Unnamed: 0</th>\n",
       "      <th>complaint_id</th>\n",
       "      <th>Complaint</th>\n",
       "      <th>clean_text</th>\n",
       "      <th>Sub_Complaint</th>\n",
       "      <th>Text</th>\n",
       "    </tr>\n",
       "  </thead>\n",
       "  <tbody>\n",
       "    <tr>\n",
       "      <th>0</th>\n",
       "      <td>0</td>\n",
       "      <td>0</td>\n",
       "      <td>Bedroll Complaints</td>\n",
       "      <td>['train', 'bogie', 'rac', 'person', 'allot', '...</td>\n",
       "      <td>\"Short supply\"</td>\n",
       "      <td>\"train no 12140; Bogie No B2  2 RAC persons ar...</td>\n",
       "    </tr>\n",
       "    <tr>\n",
       "      <th>1</th>\n",
       "      <td>1</td>\n",
       "      <td>1</td>\n",
       "      <td>Misc. Cause</td>\n",
       "      <td>['aapki', 'koi', 'plan', 'ha', 'ludhiana', 'st...</td>\n",
       "      <td>\"Misc. Cause\"</td>\n",
       "      <td>\"aapki koi Planing ha ludhiana R .Station parP...</td>\n",
       "    </tr>\n",
       "    <tr>\n",
       "      <th>2</th>\n",
       "      <td>2</td>\n",
       "      <td>2</td>\n",
       "      <td>Working of Enquiry Offices</td>\n",
       "      <td>['sr', 'citizen', 'discount', 'fare', 'tatkal'...</td>\n",
       "      <td>\"Any Other Issues (Enquiry)\"</td>\n",
       "      <td>\"Sr. Citizen discount fare in tatkal sewa from...</td>\n",
       "    </tr>\n",
       "    <tr>\n",
       "      <th>3</th>\n",
       "      <td>3</td>\n",
       "      <td>3</td>\n",
       "      <td>Maintenance / Cleanliness of coaches</td>\n",
       "      <td>['rat', 'present', 'coach', 'train', 'number',...</td>\n",
       "      <td>\"Cockroaches\"</td>\n",
       "      <td>\"RATS ARE PRESENT IN COACH B1 OF TRAIN NUMBER ...</td>\n",
       "    </tr>\n",
       "    <tr>\n",
       "      <th>4</th>\n",
       "      <td>4</td>\n",
       "      <td>3</td>\n",
       "      <td>Maintenance / Cleanliness of coaches</td>\n",
       "      <td>['coach', 'toilet', 'leak', 'vinay', 'pnr']</td>\n",
       "      <td>\"A/C &amp; Electrical fittings\"</td>\n",
       "      <td>\"12003 coach e1 toilet no 3 leaking vinay pnr ...</td>\n",
       "    </tr>\n",
       "  </tbody>\n",
       "</table>\n",
       "</div>"
      ],
      "text/plain": [
       "   Unnamed: 0  complaint_id                             Complaint  \\\n",
       "0           0             0                    Bedroll Complaints   \n",
       "1           1             1                           Misc. Cause   \n",
       "2           2             2            Working of Enquiry Offices   \n",
       "3           3             3  Maintenance / Cleanliness of coaches   \n",
       "4           4             3  Maintenance / Cleanliness of coaches   \n",
       "\n",
       "                                          clean_text  \\\n",
       "0  ['train', 'bogie', 'rac', 'person', 'allot', '...   \n",
       "1  ['aapki', 'koi', 'plan', 'ha', 'ludhiana', 'st...   \n",
       "2  ['sr', 'citizen', 'discount', 'fare', 'tatkal'...   \n",
       "3  ['rat', 'present', 'coach', 'train', 'number',...   \n",
       "4        ['coach', 'toilet', 'leak', 'vinay', 'pnr']   \n",
       "\n",
       "                  Sub_Complaint  \\\n",
       "0                \"Short supply\"   \n",
       "1                 \"Misc. Cause\"   \n",
       "2  \"Any Other Issues (Enquiry)\"   \n",
       "3                 \"Cockroaches\"   \n",
       "4   \"A/C & Electrical fittings\"   \n",
       "\n",
       "                                                Text  \n",
       "0  \"train no 12140; Bogie No B2  2 RAC persons ar...  \n",
       "1  \"aapki koi Planing ha ludhiana R .Station parP...  \n",
       "2  \"Sr. Citizen discount fare in tatkal sewa from...  \n",
       "3  \"RATS ARE PRESENT IN COACH B1 OF TRAIN NUMBER ...  \n",
       "4  \"12003 coach e1 toilet no 3 leaking vinay pnr ...  "
      ]
     },
     "execution_count": 150,
     "metadata": {},
     "output_type": "execute_result"
    }
   ],
   "source": [
    "df.head()"
   ]
  },
  {
   "cell_type": "code",
   "execution_count": 151,
   "metadata": {},
   "outputs": [],
   "source": [
    "df['complaint_id']=df['Complaint'].factorize()[0]"
   ]
  },
  {
   "cell_type": "code",
   "execution_count": 152,
   "metadata": {},
   "outputs": [
    {
     "data": {
      "text/plain": [
       "\"['train', 'bogie', 'rac', 'person', 'allot', 'single', 'berth', 'ticket', 'reservation', 'charge', 'single', 'bedding', 'provide', 'tc', 'tell', 'policy', 'railway', 'true', 'wrong', 'policy', 'pl', 'necessary', 'action', 'journey', 'date', 'complaint']\""
      ]
     },
     "execution_count": 152,
     "metadata": {},
     "output_type": "execute_result"
    }
   ],
   "source": [
    "df['clean_text'][0]"
   ]
  },
  {
   "cell_type": "code",
   "execution_count": null,
   "metadata": {},
   "outputs": [],
   "source": []
  },
  {
   "cell_type": "code",
   "execution_count": 154,
   "metadata": {},
   "outputs": [],
   "source": [
    "from sklearn.feature_extraction.stop_words import ENGLISH_STOP_WORDS\n",
    "import itertools, string, operator, re, unicodedata, nltk\n",
    "from operator import itemgetter\n",
    "from nltk.corpus import wordnet\n",
    "from nltk.stem import WordNetLemmatizer\n",
    "from nltk.tokenize import TweetTokenizer, RegexpTokenizer\n",
    "import nltk.tokenize\n",
    "import numpy as np\n",
    "from itertools import combinations\n",
    "from gensim.models import Phrases\n",
    "from collections import Counter\n",
    "\n",
    "#Contraction map\n",
    "c_dict = {\n",
    "  \"ain't\": \"am not\",\n",
    "  \"aren't\": \"are not\",\n",
    "  \"can't\": \"cannot\",\n",
    "  \"can't've\": \"cannot have\",\n",
    "  \"'cause\": \"because\",\n",
    "  \"could've\": \"could have\",\n",
    "  \"couldn't\": \"could not\",\n",
    "  \"couldn't've\": \"could not have\",\n",
    "  \"didn't\": \"did not\",\n",
    "  \"doesn't\": \"does not\",\n",
    "  \"don't\": \"do not\",\n",
    "  \"hadn't\": \"had not\",\n",
    "  \"hadn't've\": \"had not have\",\n",
    "  \"hasn't\": \"has not\",\n",
    "  \"haven't\": \"have not\",\n",
    "  \"he'd\": \"he would\",\n",
    "  \"he'd've\": \"he would have\",\n",
    "  \"he'll\": \"he will\",\n",
    "  \"he'll've\": \"he will have\",\n",
    "  \"he's\": \"he is\",\n",
    "  \"how'd\": \"how did\",\n",
    "  \"how'd'y\": \"how do you\",\n",
    "  \"how'll\": \"how will\",\n",
    "  \"how's\": \"how is\",\n",
    "  \"i'd\": \"I would\",\n",
    "  \"i'd've\": \"I would have\",\n",
    "  \"i'll\": \"I will\",\n",
    "  \"i'll've\": \"I will have\",\n",
    "  \"i'm\": \"I am\",\n",
    "  \"i've\": \"I have\",\n",
    "  \"isn't\": \"is not\",\n",
    "  \"it'd\": \"it had\",\n",
    "  \"it'd've\": \"it would have\",\n",
    "  \"it'll\": \"it will\",\n",
    "  \"it'll've\": \"it will have\",\n",
    "  \"it's\": \"it is\",\n",
    "  \"let's\": \"let us\",\n",
    "  \"ma'am\": \"madam\",\n",
    "  \"mayn't\": \"may not\",\n",
    "  \"might've\": \"might have\",\n",
    "  \"mightn't\": \"might not\",\n",
    "  \"mightn't've\": \"might not have\",\n",
    "  \"must've\": \"must have\",\n",
    "  \"mustn't\": \"must not\",\n",
    "  \"mustn't've\": \"must not have\",\n",
    "  \"needn't\": \"need not\",\n",
    "  \"needn't've\": \"need not have\",\n",
    "  \"o'clock\": \"of the clock\",\n",
    "  \"oughtn't\": \"ought not\",\n",
    "  \"oughtn't've\": \"ought not have\",\n",
    "  \"shan't\": \"shall not\",\n",
    "  \"sha'n't\": \"shall not\",\n",
    "  \"shan't've\": \"shall not have\",\n",
    "  \"she'd\": \"she would\",\n",
    "  \"she'd've\": \"she would have\",\n",
    "  \"she'll\": \"she will\",\n",
    "  \"she'll've\": \"she will have\",\n",
    "  \"she's\": \"she is\",\n",
    "  \"should've\": \"should have\",\n",
    "  \"shouldn't\": \"should not\",\n",
    "  \"shouldn't've\": \"should not have\",\n",
    "  \"so've\": \"so have\",\n",
    "  \"so's\": \"so is\",\n",
    "  \"that'd\": \"that would\",\n",
    "  \"that'd've\": \"that would have\",\n",
    "  \"that's\": \"that is\",\n",
    "  \"there'd\": \"there had\",\n",
    "  \"there'd've\": \"there would have\",\n",
    "  \"there's\": \"there is\",\n",
    "  \"they'd\": \"they would\",\n",
    "  \"they'd've\": \"they would have\",\n",
    "  \"they'll\": \"they will\",\n",
    "  \"they'll've\": \"they will have\",\n",
    "  \"they're\": \"they are\",\n",
    "  \"they've\": \"they have\",\n",
    "  \"to've\": \"to have\",\n",
    "  \"wasn't\": \"was not\",\n",
    "  \"we'd\": \"we had\",\n",
    "  \"we'd've\": \"we would have\",\n",
    "  \"we'll\": \"we will\",\n",
    "  \"we'll've\": \"we will have\",\n",
    "  \"we're\": \"we are\",\n",
    "  \"we've\": \"we have\",\n",
    "  \"weren't\": \"were not\",\n",
    "  \"what'll\": \"what will\",\n",
    "  \"what'll've\": \"what will have\",\n",
    "  \"what're\": \"what are\",\n",
    "  \"what's\": \"what is\",\n",
    "  \"what've\": \"what have\",\n",
    "  \"when's\": \"when is\",\n",
    "  \"when've\": \"when have\",\n",
    "  \"where'd\": \"where did\",\n",
    "  \"where's\": \"where is\",\n",
    "  \"where've\": \"where have\",\n",
    "  \"who'll\": \"who will\",\n",
    "  \"who'll've\": \"who will have\",\n",
    "  \"who's\": \"who is\",\n",
    "  \"who've\": \"who have\",\n",
    "  \"why's\": \"why is\",\n",
    "  \"why've\": \"why have\",\n",
    "  \"will've\": \"will have\",\n",
    "  \"won't\": \"will not\",\n",
    "  \"won't've\": \"will not have\",\n",
    "  \"would've\": \"would have\",\n",
    "  \"wouldn't\": \"would not\",\n",
    "  \"wouldn't've\": \"would not have\",\n",
    "  \"y'all\": \"you all\",\n",
    "  \"y'alls\": \"you alls\",\n",
    "  \"y'all'd\": \"you all would\",\n",
    "  \"y'all'd've\": \"you all would have\",\n",
    "  \"y'all're\": \"you all are\",\n",
    "  \"y'all've\": \"you all have\",\n",
    "  \"you'd\": \"you had\",\n",
    "  \"you'd've\": \"you would have\",\n",
    "  \"you'll\": \"you you will\",\n",
    "  \"you'll've\": \"you you will have\",\n",
    "  \"you're\": \"you are\",\n",
    "  \"you've\": \"you have\"\n",
    "}\n"
   ]
  },
  {
   "cell_type": "code",
   "execution_count": 156,
   "metadata": {},
   "outputs": [],
   "source": [
    "#df.loc[df[\"Complaint\"]==\"Misc. Cause\"]"
   ]
  },
  {
   "cell_type": "code",
   "execution_count": 157,
   "metadata": {},
   "outputs": [],
   "source": [
    "add_stop = ['', ' ', 'say', 's', 'u', 'ap', 'afp', '...', 'n', '\\\\']\n",
    "\n",
    "stop_words = ENGLISH_STOP_WORDS.union(add_stop)"
   ]
  },
  {
   "cell_type": "code",
   "execution_count": 15,
   "metadata": {},
   "outputs": [],
   "source": [
    "lemmatizer = WordNetLemmatizer()\n",
    "punc = list(set(string.punctuation))\n",
    "tokenizer = TweetTokenizer()\n"
   ]
  },
  {
   "cell_type": "code",
   "execution_count": null,
   "metadata": {},
   "outputs": [],
   "source": []
  },
  {
   "cell_type": "code",
   "execution_count": 16,
   "metadata": {},
   "outputs": [],
   "source": [
    "def casual_tokenizer(text): #Splits words on white spaces (leaves contractions intact) and splits out trailing punctuation\n",
    "    tokens = tokenizer.tokenize(text)\n",
    "    return tokens"
   ]
  },
  {
   "cell_type": "code",
   "execution_count": 17,
   "metadata": {},
   "outputs": [],
   "source": [
    "def get_word_net_pos(treebank_tag):\n",
    "    if treebank_tag.startswith('J'):\n",
    "        return wordnet.ADJ\n",
    "    elif treebank_tag.startswith('V'):\n",
    "        return wordnet.VERB\n",
    "    elif treebank_tag.startswith('N'):\n",
    "        return wordnet.NOUN\n",
    "    elif treebank_tag.startswith('R'):\n",
    "        return wordnet.ADV\n",
    "    else:\n",
    "        return None"
   ]
  },
  {
   "cell_type": "code",
   "execution_count": null,
   "metadata": {},
   "outputs": [],
   "source": []
  },
  {
   "cell_type": "code",
   "execution_count": 18,
   "metadata": {},
   "outputs": [],
   "source": [
    "def lemma_wordnet(tagged_text):\n",
    "    final = []\n",
    "    for word, tag in tagged_text:\n",
    "        wordnet_tag = get_word_net_pos(tag)\n",
    "        if wordnet_tag is None:\n",
    "            final.append(\n",
    "                lemmatizer.lemmatize(word))\n",
    "        else:\n",
    "            final.append(lemmatizer.lemmatize(word, pos=wordnet_tag))\n",
    "    return final"
   ]
  },
  {
   "cell_type": "code",
   "execution_count": 19,
   "metadata": {},
   "outputs": [],
   "source": [
    "c_re = re.compile('(%s)' % '|'.join(c_dict.keys()))\n",
    "def expandContractions(text, c_re=c_re):\n",
    "    def replace(match):\n",
    "        return c_dict[match.group(0)]\n",
    "    return c_re.sub(replace, text)"
   ]
  },
  {
   "cell_type": "code",
   "execution_count": 51,
   "metadata": {},
   "outputs": [],
   "source": [
    "def process_text(text):\n",
    "    \n",
    "    tokenized = casual_tokenizer(text)\n",
    "    lower = [item.lower() for item in tokenized]\n",
    "    decontract = [expandContractions(item, c_re=c_re) for item in lower]\n",
    "    tagged = nltk.pos_tag(decontract)\n",
    "    lemma = lemma_wordnet(tagged)\n",
    "    no_num = [re.sub('[0-9]+', '', each) for each in lemma]\n",
    "    no_punc = [w for w in no_num if w not in punc]\n",
    "    no_stop = [w for w in no_punc if w not in stop_words]\n",
    "    cleaned=[w for w in no_stop if len(w)>1]\n",
    "    return cleaned"
   ]
  },
  {
   "cell_type": "code",
   "execution_count": 52,
   "metadata": {},
   "outputs": [],
   "source": [
    "def word_count(text):\n",
    "    return len(str(text).split(' '))"
   ]
  },
  {
   "cell_type": "code",
   "execution_count": 170,
   "metadata": {},
   "outputs": [],
   "source": [
    "\n",
    "def word_freq(clean_text_list, top_n):\n",
    "    \"\"\"\n",
    "    Word Frequency\n",
    "    \"\"\"\n",
    "    flat = [item for sublist in clean_text_list for item in sublist]\n",
    "    with_counts = Counter(flat)\n",
    "    top = with_counts.most_common(top_n)\n",
    "    word = [each[0] for each in top]\n",
    "    num = [each[1] for each in top]\n",
    "    return pd.DataFrame([word, num]).T\n",
    "\n",
    "def word_freq_bigrams(clean_text_list, top_n):\n",
    "    \"\"\"\n",
    "    Word Frequency With Bigrams\n",
    "    \"\"\"\n",
    "    bigram_model = Phrases(clean_text_list, min_count=2, threshold=1)\n",
    "    w_bigrams = list(bigram_model[clean_text_list])\n",
    "    flat_w_bigrams = [item for sublist in w_bigrams for item in sublist]\n",
    "    with_counts = Counter(flat_w_bigrams)\n",
    "    top = with_counts.most_common(top_n)\n",
    "    word = [each[0] for each in top]\n",
    "    num = [each[1] for each in top]\n",
    "    return pd.DataFrame([word, num]).T\n",
    "\n",
    "\n",
    "def bigram_freq(clean_text_list, top_n):\n",
    "    bigram_model = Phrases(clean_text_list, min_count=2, threshold=1)\n",
    "    w_bigrams = list(bigram_model[clean_text_list])\n",
    "    flat_w_bigrams = [item for sublist in w_bigrams for item in sublist]\n",
    "    bigrams = []\n",
    "    for each in flat_w_bigrams:\n",
    "        if '_' in each:\n",
    "            bigrams.append(each)\n",
    "    counts = Counter(bigrams)\n",
    "    top = counts.most_common(top_n)\n",
    "    word = [each[0] for each in top]\n",
    "    num = [each[1] for each in top]\n",
    "    return pd.DataFrame([word, num]).T"
   ]
  },
  {
   "cell_type": "code",
   "execution_count": null,
   "metadata": {},
   "outputs": [],
   "source": []
  },
  {
   "cell_type": "code",
   "execution_count": 167,
   "metadata": {},
   "outputs": [
    {
     "ename": "KeyboardInterrupt",
     "evalue": "",
     "output_type": "error",
     "traceback": [
      "\u001b[0;31m---------------------------------------------------------------------------\u001b[0m",
      "\u001b[0;31mKeyboardInterrupt\u001b[0m                         Traceback (most recent call last)",
      "\u001b[0;32m<ipython-input-167-1caa2594d7d9>\u001b[0m in \u001b[0;36m<module>\u001b[0;34m()\u001b[0m\n\u001b[1;32m      3\u001b[0m \u001b[0;31m#Apply the function to preprocess the text. Tokenize, lower, expand contactions, lemmatize, remove punctuation, numbers and stop words\u001b[0m\u001b[0;34m\u001b[0m\u001b[0;34m\u001b[0m\u001b[0;34m\u001b[0m\u001b[0m\n\u001b[1;32m      4\u001b[0m \u001b[0;34m\u001b[0m\u001b[0m\n\u001b[0;32m----> 5\u001b[0;31m \u001b[0mdf\u001b[0m\u001b[0;34m[\u001b[0m\u001b[0;34m'clean_text'\u001b[0m\u001b[0;34m]\u001b[0m \u001b[0;34m=\u001b[0m \u001b[0mdf\u001b[0m\u001b[0;34m[\u001b[0m\u001b[0;34m'Text'\u001b[0m\u001b[0;34m]\u001b[0m\u001b[0;34m.\u001b[0m\u001b[0mapply\u001b[0m\u001b[0;34m(\u001b[0m\u001b[0mprocess_text\u001b[0m\u001b[0;34m)\u001b[0m\u001b[0;34m\u001b[0m\u001b[0;34m\u001b[0m\u001b[0m\n\u001b[0m\u001b[1;32m      6\u001b[0m \u001b[0mdf\u001b[0m\u001b[0;34m.\u001b[0m\u001b[0mhead\u001b[0m\u001b[0;34m(\u001b[0m\u001b[0;34m)\u001b[0m\u001b[0;34m\u001b[0m\u001b[0;34m\u001b[0m\u001b[0m\n",
      "\u001b[0;32m~/.local/lib/python3.6/site-packages/pandas/core/series.py\u001b[0m in \u001b[0;36mapply\u001b[0;34m(self, func, convert_dtype, args, **kwds)\u001b[0m\n\u001b[1;32m   3589\u001b[0m             \u001b[0;32melse\u001b[0m\u001b[0;34m:\u001b[0m\u001b[0;34m\u001b[0m\u001b[0;34m\u001b[0m\u001b[0m\n\u001b[1;32m   3590\u001b[0m                 \u001b[0mvalues\u001b[0m \u001b[0;34m=\u001b[0m \u001b[0mself\u001b[0m\u001b[0;34m.\u001b[0m\u001b[0mastype\u001b[0m\u001b[0;34m(\u001b[0m\u001b[0mobject\u001b[0m\u001b[0;34m)\u001b[0m\u001b[0;34m.\u001b[0m\u001b[0mvalues\u001b[0m\u001b[0;34m\u001b[0m\u001b[0;34m\u001b[0m\u001b[0m\n\u001b[0;32m-> 3591\u001b[0;31m                 \u001b[0mmapped\u001b[0m \u001b[0;34m=\u001b[0m \u001b[0mlib\u001b[0m\u001b[0;34m.\u001b[0m\u001b[0mmap_infer\u001b[0m\u001b[0;34m(\u001b[0m\u001b[0mvalues\u001b[0m\u001b[0;34m,\u001b[0m \u001b[0mf\u001b[0m\u001b[0;34m,\u001b[0m \u001b[0mconvert\u001b[0m\u001b[0;34m=\u001b[0m\u001b[0mconvert_dtype\u001b[0m\u001b[0;34m)\u001b[0m\u001b[0;34m\u001b[0m\u001b[0;34m\u001b[0m\u001b[0m\n\u001b[0m\u001b[1;32m   3592\u001b[0m \u001b[0;34m\u001b[0m\u001b[0m\n\u001b[1;32m   3593\u001b[0m         \u001b[0;32mif\u001b[0m \u001b[0mlen\u001b[0m\u001b[0;34m(\u001b[0m\u001b[0mmapped\u001b[0m\u001b[0;34m)\u001b[0m \u001b[0;32mand\u001b[0m \u001b[0misinstance\u001b[0m\u001b[0;34m(\u001b[0m\u001b[0mmapped\u001b[0m\u001b[0;34m[\u001b[0m\u001b[0;36m0\u001b[0m\u001b[0;34m]\u001b[0m\u001b[0;34m,\u001b[0m \u001b[0mSeries\u001b[0m\u001b[0;34m)\u001b[0m\u001b[0;34m:\u001b[0m\u001b[0;34m\u001b[0m\u001b[0;34m\u001b[0m\u001b[0m\n",
      "\u001b[0;32mpandas/_libs/lib.pyx\u001b[0m in \u001b[0;36mpandas._libs.lib.map_infer\u001b[0;34m()\u001b[0m\n",
      "\u001b[0;32m<ipython-input-51-5b17e267fa70>\u001b[0m in \u001b[0;36mprocess_text\u001b[0;34m(text)\u001b[0m\n\u001b[1;32m      4\u001b[0m     \u001b[0mlower\u001b[0m \u001b[0;34m=\u001b[0m \u001b[0;34m[\u001b[0m\u001b[0mitem\u001b[0m\u001b[0;34m.\u001b[0m\u001b[0mlower\u001b[0m\u001b[0;34m(\u001b[0m\u001b[0;34m)\u001b[0m \u001b[0;32mfor\u001b[0m \u001b[0mitem\u001b[0m \u001b[0;32min\u001b[0m \u001b[0mtokenized\u001b[0m\u001b[0;34m]\u001b[0m\u001b[0;34m\u001b[0m\u001b[0;34m\u001b[0m\u001b[0m\n\u001b[1;32m      5\u001b[0m     \u001b[0mdecontract\u001b[0m \u001b[0;34m=\u001b[0m \u001b[0;34m[\u001b[0m\u001b[0mexpandContractions\u001b[0m\u001b[0;34m(\u001b[0m\u001b[0mitem\u001b[0m\u001b[0;34m,\u001b[0m \u001b[0mc_re\u001b[0m\u001b[0;34m=\u001b[0m\u001b[0mc_re\u001b[0m\u001b[0;34m)\u001b[0m \u001b[0;32mfor\u001b[0m \u001b[0mitem\u001b[0m \u001b[0;32min\u001b[0m \u001b[0mlower\u001b[0m\u001b[0;34m]\u001b[0m\u001b[0;34m\u001b[0m\u001b[0;34m\u001b[0m\u001b[0m\n\u001b[0;32m----> 6\u001b[0;31m     \u001b[0mtagged\u001b[0m \u001b[0;34m=\u001b[0m \u001b[0mnltk\u001b[0m\u001b[0;34m.\u001b[0m\u001b[0mpos_tag\u001b[0m\u001b[0;34m(\u001b[0m\u001b[0mdecontract\u001b[0m\u001b[0;34m)\u001b[0m\u001b[0;34m\u001b[0m\u001b[0;34m\u001b[0m\u001b[0m\n\u001b[0m\u001b[1;32m      7\u001b[0m     \u001b[0mlemma\u001b[0m \u001b[0;34m=\u001b[0m \u001b[0mlemma_wordnet\u001b[0m\u001b[0;34m(\u001b[0m\u001b[0mtagged\u001b[0m\u001b[0;34m)\u001b[0m\u001b[0;34m\u001b[0m\u001b[0;34m\u001b[0m\u001b[0m\n\u001b[1;32m      8\u001b[0m     \u001b[0mno_num\u001b[0m \u001b[0;34m=\u001b[0m \u001b[0;34m[\u001b[0m\u001b[0mre\u001b[0m\u001b[0;34m.\u001b[0m\u001b[0msub\u001b[0m\u001b[0;34m(\u001b[0m\u001b[0;34m'[0-9]+'\u001b[0m\u001b[0;34m,\u001b[0m \u001b[0;34m''\u001b[0m\u001b[0;34m,\u001b[0m \u001b[0meach\u001b[0m\u001b[0;34m)\u001b[0m \u001b[0;32mfor\u001b[0m \u001b[0meach\u001b[0m \u001b[0;32min\u001b[0m \u001b[0mlemma\u001b[0m\u001b[0;34m]\u001b[0m\u001b[0;34m\u001b[0m\u001b[0;34m\u001b[0m\u001b[0m\n",
      "\u001b[0;32m~/.local/lib/python3.6/site-packages/nltk/tag/__init__.py\u001b[0m in \u001b[0;36mpos_tag\u001b[0;34m(tokens, tagset, lang)\u001b[0m\n\u001b[1;32m    160\u001b[0m     \"\"\"\n\u001b[1;32m    161\u001b[0m     \u001b[0mtagger\u001b[0m \u001b[0;34m=\u001b[0m \u001b[0m_get_tagger\u001b[0m\u001b[0;34m(\u001b[0m\u001b[0mlang\u001b[0m\u001b[0;34m)\u001b[0m\u001b[0;34m\u001b[0m\u001b[0;34m\u001b[0m\u001b[0m\n\u001b[0;32m--> 162\u001b[0;31m     \u001b[0;32mreturn\u001b[0m \u001b[0m_pos_tag\u001b[0m\u001b[0;34m(\u001b[0m\u001b[0mtokens\u001b[0m\u001b[0;34m,\u001b[0m \u001b[0mtagset\u001b[0m\u001b[0;34m,\u001b[0m \u001b[0mtagger\u001b[0m\u001b[0;34m,\u001b[0m \u001b[0mlang\u001b[0m\u001b[0;34m)\u001b[0m\u001b[0;34m\u001b[0m\u001b[0;34m\u001b[0m\u001b[0m\n\u001b[0m\u001b[1;32m    163\u001b[0m \u001b[0;34m\u001b[0m\u001b[0m\n\u001b[1;32m    164\u001b[0m \u001b[0;34m\u001b[0m\u001b[0m\n",
      "\u001b[0;32m~/.local/lib/python3.6/site-packages/nltk/tag/__init__.py\u001b[0m in \u001b[0;36m_pos_tag\u001b[0;34m(tokens, tagset, tagger, lang)\u001b[0m\n\u001b[1;32m    117\u001b[0m         )\n\u001b[1;32m    118\u001b[0m     \u001b[0;32melse\u001b[0m\u001b[0;34m:\u001b[0m\u001b[0;34m\u001b[0m\u001b[0;34m\u001b[0m\u001b[0m\n\u001b[0;32m--> 119\u001b[0;31m         \u001b[0mtagged_tokens\u001b[0m \u001b[0;34m=\u001b[0m \u001b[0mtagger\u001b[0m\u001b[0;34m.\u001b[0m\u001b[0mtag\u001b[0m\u001b[0;34m(\u001b[0m\u001b[0mtokens\u001b[0m\u001b[0;34m)\u001b[0m\u001b[0;34m\u001b[0m\u001b[0;34m\u001b[0m\u001b[0m\n\u001b[0m\u001b[1;32m    120\u001b[0m         \u001b[0;32mif\u001b[0m \u001b[0mtagset\u001b[0m\u001b[0;34m:\u001b[0m  \u001b[0;31m# Maps to the specified tagset.\u001b[0m\u001b[0;34m\u001b[0m\u001b[0;34m\u001b[0m\u001b[0m\n\u001b[1;32m    121\u001b[0m             \u001b[0;32mif\u001b[0m \u001b[0mlang\u001b[0m \u001b[0;34m==\u001b[0m \u001b[0;34m'eng'\u001b[0m\u001b[0;34m:\u001b[0m\u001b[0;34m\u001b[0m\u001b[0;34m\u001b[0m\u001b[0m\n",
      "\u001b[0;32m~/.local/lib/python3.6/site-packages/nltk/tag/perceptron.py\u001b[0m in \u001b[0;36mtag\u001b[0;34m(self, tokens)\u001b[0m\n\u001b[1;32m    160\u001b[0m             \u001b[0;32mif\u001b[0m \u001b[0;32mnot\u001b[0m \u001b[0mtag\u001b[0m\u001b[0;34m:\u001b[0m\u001b[0;34m\u001b[0m\u001b[0;34m\u001b[0m\u001b[0m\n\u001b[1;32m    161\u001b[0m                 \u001b[0mfeatures\u001b[0m \u001b[0;34m=\u001b[0m \u001b[0mself\u001b[0m\u001b[0;34m.\u001b[0m\u001b[0m_get_features\u001b[0m\u001b[0;34m(\u001b[0m\u001b[0mi\u001b[0m\u001b[0;34m,\u001b[0m \u001b[0mword\u001b[0m\u001b[0;34m,\u001b[0m \u001b[0mcontext\u001b[0m\u001b[0;34m,\u001b[0m \u001b[0mprev\u001b[0m\u001b[0;34m,\u001b[0m \u001b[0mprev2\u001b[0m\u001b[0;34m)\u001b[0m\u001b[0;34m\u001b[0m\u001b[0;34m\u001b[0m\u001b[0m\n\u001b[0;32m--> 162\u001b[0;31m                 \u001b[0mtag\u001b[0m \u001b[0;34m=\u001b[0m \u001b[0mself\u001b[0m\u001b[0;34m.\u001b[0m\u001b[0mmodel\u001b[0m\u001b[0;34m.\u001b[0m\u001b[0mpredict\u001b[0m\u001b[0;34m(\u001b[0m\u001b[0mfeatures\u001b[0m\u001b[0;34m)\u001b[0m\u001b[0;34m\u001b[0m\u001b[0;34m\u001b[0m\u001b[0m\n\u001b[0m\u001b[1;32m    163\u001b[0m             \u001b[0moutput\u001b[0m\u001b[0;34m.\u001b[0m\u001b[0mappend\u001b[0m\u001b[0;34m(\u001b[0m\u001b[0;34m(\u001b[0m\u001b[0mword\u001b[0m\u001b[0;34m,\u001b[0m \u001b[0mtag\u001b[0m\u001b[0;34m)\u001b[0m\u001b[0;34m)\u001b[0m\u001b[0;34m\u001b[0m\u001b[0;34m\u001b[0m\u001b[0m\n\u001b[1;32m    164\u001b[0m             \u001b[0mprev2\u001b[0m \u001b[0;34m=\u001b[0m \u001b[0mprev\u001b[0m\u001b[0;34m\u001b[0m\u001b[0;34m\u001b[0m\u001b[0m\n",
      "\u001b[0;32m~/.local/lib/python3.6/site-packages/nltk/tag/perceptron.py\u001b[0m in \u001b[0;36mpredict\u001b[0;34m(self, features)\u001b[0m\n\u001b[1;32m     51\u001b[0m         \u001b[0mscores\u001b[0m \u001b[0;34m=\u001b[0m \u001b[0mdefaultdict\u001b[0m\u001b[0;34m(\u001b[0m\u001b[0mfloat\u001b[0m\u001b[0;34m)\u001b[0m\u001b[0;34m\u001b[0m\u001b[0;34m\u001b[0m\u001b[0m\n\u001b[1;32m     52\u001b[0m         \u001b[0;32mfor\u001b[0m \u001b[0mfeat\u001b[0m\u001b[0;34m,\u001b[0m \u001b[0mvalue\u001b[0m \u001b[0;32min\u001b[0m \u001b[0mfeatures\u001b[0m\u001b[0;34m.\u001b[0m\u001b[0mitems\u001b[0m\u001b[0;34m(\u001b[0m\u001b[0;34m)\u001b[0m\u001b[0;34m:\u001b[0m\u001b[0;34m\u001b[0m\u001b[0;34m\u001b[0m\u001b[0m\n\u001b[0;32m---> 53\u001b[0;31m             \u001b[0;32mif\u001b[0m \u001b[0mfeat\u001b[0m \u001b[0;32mnot\u001b[0m \u001b[0;32min\u001b[0m \u001b[0mself\u001b[0m\u001b[0;34m.\u001b[0m\u001b[0mweights\u001b[0m \u001b[0;32mor\u001b[0m \u001b[0mvalue\u001b[0m \u001b[0;34m==\u001b[0m \u001b[0;36m0\u001b[0m\u001b[0;34m:\u001b[0m\u001b[0;34m\u001b[0m\u001b[0;34m\u001b[0m\u001b[0m\n\u001b[0m\u001b[1;32m     54\u001b[0m                 \u001b[0;32mcontinue\u001b[0m\u001b[0;34m\u001b[0m\u001b[0;34m\u001b[0m\u001b[0m\n\u001b[1;32m     55\u001b[0m             \u001b[0mweights\u001b[0m \u001b[0;34m=\u001b[0m \u001b[0mself\u001b[0m\u001b[0;34m.\u001b[0m\u001b[0mweights\u001b[0m\u001b[0;34m[\u001b[0m\u001b[0mfeat\u001b[0m\u001b[0;34m]\u001b[0m\u001b[0;34m\u001b[0m\u001b[0;34m\u001b[0m\u001b[0m\n",
      "\u001b[0;31mKeyboardInterrupt\u001b[0m: "
     ]
    }
   ],
   "source": [
    "\n",
    "\n",
    "#Apply the function to preprocess the text. Tokenize, lower, expand contactions, lemmatize, remove punctuation, numbers and stop words\n",
    "\n",
    "df['clean_text'] = df['Text'].apply(process_text)\n",
    "df.head()\n",
    "\n"
   ]
  },
  {
   "cell_type": "code",
   "execution_count": 59,
   "metadata": {},
   "outputs": [],
   "source": [
    "#df.to_csv('coms.csv')"
   ]
  },
  {
   "cell_type": "code",
   "execution_count": 168,
   "metadata": {},
   "outputs": [
    {
     "name": "stdout",
     "output_type": "stream",
     "text": [
      "\"train no 12140; Bogie No B2  2 RAC persons are allotted single berth. Ticket with full reservation charges are taken. But single bedding is provided. TC told it is the policy of railway. If it is true. Its wrong. If not such a policy pl take necessary action. journey date 25/8/13 for above 12140 complaint \n",
      "\n",
      "['train', 'bogie', 'rac', 'person', 'allot', 'single', 'berth', 'ticket', 'reservation', 'charge', 'single', 'bedding', 'provide', 'tc', 'tell', 'policy', 'railway', 'true', 'wrong', 'policy', 'pl', 'necessary', 'action', 'journey', 'date', 'complaint']\n"
     ]
    }
   ],
   "source": [
    "print(df['Text'][0],\"\\n\")\n",
    "print(df['clean_text'][0])"
   ]
  },
  {
   "cell_type": "code",
   "execution_count": 169,
   "metadata": {},
   "outputs": [
    {
     "data": {
      "text/html": [
       "<div>\n",
       "<style scoped>\n",
       "    .dataframe tbody tr th:only-of-type {\n",
       "        vertical-align: middle;\n",
       "    }\n",
       "\n",
       "    .dataframe tbody tr th {\n",
       "        vertical-align: top;\n",
       "    }\n",
       "\n",
       "    .dataframe thead th {\n",
       "        text-align: right;\n",
       "    }\n",
       "</style>\n",
       "<table border=\"1\" class=\"dataframe\">\n",
       "  <thead>\n",
       "    <tr style=\"text-align: right;\">\n",
       "      <th></th>\n",
       "      <th>0</th>\n",
       "      <th>1</th>\n",
       "    </tr>\n",
       "  </thead>\n",
       "  <tbody>\n",
       "  </tbody>\n",
       "</table>\n",
       "</div>"
      ],
      "text/plain": [
       "Empty DataFrame\n",
       "Columns: [0, 1]\n",
       "Index: []"
      ]
     },
     "execution_count": 169,
     "metadata": {},
     "output_type": "execute_result"
    }
   ],
   "source": [
    "\n",
    "\n",
    "#Top 20 most frequent words for all the articles\n",
    "\n",
    "cl_text_list = df['clean_text'].tolist()\n",
    "wf = word_freq(cl_text_list, 20)\n",
    "wf.head(20)\n",
    "\n"
   ]
  },
  {
   "cell_type": "code",
   "execution_count": 26,
   "metadata": {},
   "outputs": [
    {
     "data": {
      "text/html": [
       "<div>\n",
       "<style scoped>\n",
       "    .dataframe tbody tr th:only-of-type {\n",
       "        vertical-align: middle;\n",
       "    }\n",
       "\n",
       "    .dataframe tbody tr th {\n",
       "        vertical-align: top;\n",
       "    }\n",
       "\n",
       "    .dataframe thead th {\n",
       "        text-align: right;\n",
       "    }\n",
       "</style>\n",
       "<table border=\"1\" class=\"dataframe\">\n",
       "  <thead>\n",
       "    <tr style=\"text-align: right;\">\n",
       "      <th></th>\n",
       "      <th>Complaint</th>\n",
       "      <th>word_count</th>\n",
       "    </tr>\n",
       "  </thead>\n",
       "  <tbody>\n",
       "    <tr>\n",
       "      <th>0</th>\n",
       "      <td>Allotment of seats - berths by train staff</td>\n",
       "      <td>40.142319</td>\n",
       "    </tr>\n",
       "    <tr>\n",
       "      <th>1</th>\n",
       "      <td>Bedroll Complaints</td>\n",
       "      <td>26.492015</td>\n",
       "    </tr>\n",
       "    <tr>\n",
       "      <th>2</th>\n",
       "      <td>Booking of Luggage / Parcels / Goods</td>\n",
       "      <td>40.647111</td>\n",
       "    </tr>\n",
       "    <tr>\n",
       "      <th>3</th>\n",
       "      <td>Bribery and corruption</td>\n",
       "      <td>47.561212</td>\n",
       "    </tr>\n",
       "    <tr>\n",
       "      <th>4</th>\n",
       "      <td>Catering and Vending Services</td>\n",
       "      <td>32.932757</td>\n",
       "    </tr>\n",
       "    <tr>\n",
       "      <th>5</th>\n",
       "      <td>Cleanliness at Station</td>\n",
       "      <td>29.613687</td>\n",
       "    </tr>\n",
       "    <tr>\n",
       "      <th>6</th>\n",
       "      <td>Complaints related to Sleeper Class</td>\n",
       "      <td>32.273256</td>\n",
       "    </tr>\n",
       "    <tr>\n",
       "      <th>7</th>\n",
       "      <td>Emergency Assistance</td>\n",
       "      <td>30.843260</td>\n",
       "    </tr>\n",
       "    <tr>\n",
       "      <th>8</th>\n",
       "      <td>Feedback/Suggestions</td>\n",
       "      <td>37.361301</td>\n",
       "    </tr>\n",
       "    <tr>\n",
       "      <th>9</th>\n",
       "      <td>Improper behaviour of commercial staff</td>\n",
       "      <td>47.406706</td>\n",
       "    </tr>\n",
       "    <tr>\n",
       "      <th>10</th>\n",
       "      <td>Improper behaviour of non commercial staff</td>\n",
       "      <td>42.446475</td>\n",
       "    </tr>\n",
       "    <tr>\n",
       "      <th>11</th>\n",
       "      <td>Improper behaviour of non railway staff</td>\n",
       "      <td>34.272727</td>\n",
       "    </tr>\n",
       "    <tr>\n",
       "      <th>12</th>\n",
       "      <td>Maintenance / Cleanliness of coaches</td>\n",
       "      <td>23.356474</td>\n",
       "    </tr>\n",
       "    <tr>\n",
       "      <th>13</th>\n",
       "      <td>Malfunctioning of Electrical Equipment</td>\n",
       "      <td>21.071169</td>\n",
       "    </tr>\n",
       "    <tr>\n",
       "      <th>14</th>\n",
       "      <td>Misc. Cause</td>\n",
       "      <td>33.530526</td>\n",
       "    </tr>\n",
       "    <tr>\n",
       "      <th>15</th>\n",
       "      <td>Multiple complaints</td>\n",
       "      <td>37.128149</td>\n",
       "    </tr>\n",
       "    <tr>\n",
       "      <th>16</th>\n",
       "      <td>Non availability of Water</td>\n",
       "      <td>20.316679</td>\n",
       "    </tr>\n",
       "    <tr>\n",
       "      <th>17</th>\n",
       "      <td>Passenger Booking</td>\n",
       "      <td>40.008357</td>\n",
       "    </tr>\n",
       "    <tr>\n",
       "      <th>18</th>\n",
       "      <td>Publicity</td>\n",
       "      <td>31.347826</td>\n",
       "    </tr>\n",
       "    <tr>\n",
       "      <th>19</th>\n",
       "      <td>Punctuality of Train</td>\n",
       "      <td>30.249321</td>\n",
       "    </tr>\n",
       "    <tr>\n",
       "      <th>20</th>\n",
       "      <td>Refund of tickets</td>\n",
       "      <td>32.533186</td>\n",
       "    </tr>\n",
       "    <tr>\n",
       "      <th>21</th>\n",
       "      <td>Reservation Issues</td>\n",
       "      <td>42.026713</td>\n",
       "    </tr>\n",
       "    <tr>\n",
       "      <th>22</th>\n",
       "      <td>Retiring Room (ONLINE)</td>\n",
       "      <td>39.200000</td>\n",
       "    </tr>\n",
       "    <tr>\n",
       "      <th>23</th>\n",
       "      <td>Security</td>\n",
       "      <td>34.049296</td>\n",
       "    </tr>\n",
       "    <tr>\n",
       "      <th>24</th>\n",
       "      <td>Thefts / Pilferages</td>\n",
       "      <td>40.793620</td>\n",
       "    </tr>\n",
       "    <tr>\n",
       "      <th>25</th>\n",
       "      <td>Unauthorised passengers in coaches</td>\n",
       "      <td>31.444535</td>\n",
       "    </tr>\n",
       "    <tr>\n",
       "      <th>26</th>\n",
       "      <td>WIFI Service</td>\n",
       "      <td>24.481481</td>\n",
       "    </tr>\n",
       "    <tr>\n",
       "      <th>27</th>\n",
       "      <td>Working of Enquiry Offices</td>\n",
       "      <td>32.195174</td>\n",
       "    </tr>\n",
       "    <tr>\n",
       "      <th>28</th>\n",
       "      <td>parking</td>\n",
       "      <td>41.590909</td>\n",
       "    </tr>\n",
       "  </tbody>\n",
       "</table>\n",
       "</div>"
      ],
      "text/plain": [
       "                                     Complaint  word_count\n",
       "0   Allotment of seats - berths by train staff   40.142319\n",
       "1                           Bedroll Complaints   26.492015\n",
       "2         Booking of Luggage / Parcels / Goods   40.647111\n",
       "3                       Bribery and corruption   47.561212\n",
       "4                Catering and Vending Services   32.932757\n",
       "5                       Cleanliness at Station   29.613687\n",
       "6          Complaints related to Sleeper Class   32.273256\n",
       "7                         Emergency Assistance   30.843260\n",
       "8                         Feedback/Suggestions   37.361301\n",
       "9       Improper behaviour of commercial staff   47.406706\n",
       "10  Improper behaviour of non commercial staff   42.446475\n",
       "11     Improper behaviour of non railway staff   34.272727\n",
       "12        Maintenance / Cleanliness of coaches   23.356474\n",
       "13      Malfunctioning of Electrical Equipment   21.071169\n",
       "14                                 Misc. Cause   33.530526\n",
       "15                         Multiple complaints   37.128149\n",
       "16                   Non availability of Water   20.316679\n",
       "17                           Passenger Booking   40.008357\n",
       "18                                   Publicity   31.347826\n",
       "19                        Punctuality of Train   30.249321\n",
       "20                           Refund of tickets   32.533186\n",
       "21                          Reservation Issues   42.026713\n",
       "22                      Retiring Room (ONLINE)   39.200000\n",
       "23                                    Security   34.049296\n",
       "24                         Thefts / Pilferages   40.793620\n",
       "25          Unauthorised passengers in coaches   31.444535\n",
       "26                                WIFI Service   24.481481\n",
       "27                  Working of Enquiry Offices   32.195174\n",
       "28                                     parking   41.590909"
      ]
     },
     "execution_count": 26,
     "metadata": {},
     "output_type": "execute_result"
    }
   ],
   "source": [
    "df['word_count'] = df['Text'].apply(word_count)\n",
    "avg_wc = df.groupby('Complaint').mean().reset_index()\n",
    "avg_wc[['Complaint','word_count']]"
   ]
  },
  {
   "cell_type": "code",
   "execution_count": 62,
   "metadata": {},
   "outputs": [],
   "source": [
    "df['complaint_id']=df['Complaint'].factorize()[0]\n",
    "complaint_id_if=df[['Text','Complaint','Sub_Complaint','complaint_id']].sort_values('complaint_id')"
   ]
  },
  {
   "cell_type": "code",
   "execution_count": 63,
   "metadata": {},
   "outputs": [
    {
     "data": {
      "text/plain": [
       "<matplotlib.axes._subplots.AxesSubplot at 0x7fa33e7c8550>"
      ]
     },
     "execution_count": 63,
     "metadata": {},
     "output_type": "execute_result"
    },
    {
     "data": {
      "image/png": "[encoded data removed]",
      "text/plain": [
       "<Figure size 576x432 with 1 Axes>"
      ]
     },
     "metadata": {},
     "output_type": "display_data"
    }
   ],
   "source": [
    "import matplotlib.pyplot as plt\n",
    "fig=plt.figure(figsize=(8,6))\n",
    "df.groupby('Complaint').Text.count().plot.bar(ylim=0)"
   ]
  },
  {
   "cell_type": "code",
   "execution_count": 143,
   "metadata": {},
   "outputs": [
    {
     "data": {
      "text/plain": [
       "<matplotlib.axes._subplots.AxesSubplot at 0x7fa2f21760f0>"
      ]
     },
     "execution_count": 143,
     "metadata": {},
     "output_type": "execute_result"
    },
    {
     "data": {
      "image/png": "[encoded data removed]",
      "text/plain": [
       "<Figure size 720x864 with 1 Axes>"
      ]
     },
     "metadata": {},
     "output_type": "display_data"
    }
   ],
   "source": [
    "import matplotlib.pyplot as plt\n",
    "fig=plt.figure(figsize=(10,12))\n",
    "df.groupby('Complaint').Text.count().plot.pie()"
   ]
  },
  {
   "cell_type": "code",
   "execution_count": 144,
   "metadata": {},
   "outputs": [
    {
     "ename": "AttributeError",
     "evalue": "'Series' object has no attribute 'iplot'",
     "output_type": "error",
     "traceback": [
      "\u001b[0;31m---------------------------------------------------------------------------\u001b[0m",
      "\u001b[0;31mAttributeError\u001b[0m                            Traceback (most recent call last)",
      "\u001b[0;32m<ipython-input-144-26e0bd27e4c2>\u001b[0m in \u001b[0;36m<module>\u001b[0;34m()\u001b[0m\n\u001b[0;32m----> 1\u001b[0;31m df['Complaint'].iplot(\n\u001b[0m\u001b[1;32m      2\u001b[0m     \u001b[0mkind\u001b[0m\u001b[0;34m=\u001b[0m\u001b[0;34m'hist'\u001b[0m\u001b[0;34m,\u001b[0m\u001b[0;34m\u001b[0m\u001b[0;34m\u001b[0m\u001b[0m\n\u001b[1;32m      3\u001b[0m     \u001b[0mbins\u001b[0m\u001b[0;34m=\u001b[0m\u001b[0;36m50\u001b[0m\u001b[0;34m,\u001b[0m\u001b[0;34m\u001b[0m\u001b[0;34m\u001b[0m\u001b[0m\n\u001b[1;32m      4\u001b[0m     \u001b[0mxTitle\u001b[0m\u001b[0;34m=\u001b[0m\u001b[0;34m'Complaints'\u001b[0m\u001b[0;34m,\u001b[0m\u001b[0;34m\u001b[0m\u001b[0;34m\u001b[0m\u001b[0m\n\u001b[1;32m      5\u001b[0m     \u001b[0mlinecolor\u001b[0m\u001b[0;34m=\u001b[0m\u001b[0;34m'black'\u001b[0m\u001b[0;34m,\u001b[0m\u001b[0;34m\u001b[0m\u001b[0;34m\u001b[0m\u001b[0m\n",
      "\u001b[0;32m~/.local/lib/python3.6/site-packages/pandas/core/generic.py\u001b[0m in \u001b[0;36m__getattr__\u001b[0;34m(self, name)\u001b[0m\n\u001b[1;32m   5055\u001b[0m             \u001b[0;32mif\u001b[0m \u001b[0mself\u001b[0m\u001b[0;34m.\u001b[0m\u001b[0m_info_axis\u001b[0m\u001b[0;34m.\u001b[0m\u001b[0m_can_hold_identifiers_and_holds_name\u001b[0m\u001b[0;34m(\u001b[0m\u001b[0mname\u001b[0m\u001b[0;34m)\u001b[0m\u001b[0;34m:\u001b[0m\u001b[0;34m\u001b[0m\u001b[0;34m\u001b[0m\u001b[0m\n\u001b[1;32m   5056\u001b[0m                 \u001b[0;32mreturn\u001b[0m \u001b[0mself\u001b[0m\u001b[0;34m[\u001b[0m\u001b[0mname\u001b[0m\u001b[0;34m]\u001b[0m\u001b[0;34m\u001b[0m\u001b[0;34m\u001b[0m\u001b[0m\n\u001b[0;32m-> 5057\u001b[0;31m             \u001b[0;32mreturn\u001b[0m \u001b[0mobject\u001b[0m\u001b[0;34m.\u001b[0m\u001b[0m__getattribute__\u001b[0m\u001b[0;34m(\u001b[0m\u001b[0mself\u001b[0m\u001b[0;34m,\u001b[0m \u001b[0mname\u001b[0m\u001b[0;34m)\u001b[0m\u001b[0;34m\u001b[0m\u001b[0;34m\u001b[0m\u001b[0m\n\u001b[0m\u001b[1;32m   5058\u001b[0m \u001b[0;34m\u001b[0m\u001b[0m\n\u001b[1;32m   5059\u001b[0m     \u001b[0;32mdef\u001b[0m \u001b[0m__setattr__\u001b[0m\u001b[0;34m(\u001b[0m\u001b[0mself\u001b[0m\u001b[0;34m,\u001b[0m \u001b[0mname\u001b[0m\u001b[0;34m,\u001b[0m \u001b[0mvalue\u001b[0m\u001b[0;34m)\u001b[0m\u001b[0;34m:\u001b[0m\u001b[0;34m\u001b[0m\u001b[0;34m\u001b[0m\u001b[0m\n",
      "\u001b[0;31mAttributeError\u001b[0m: 'Series' object has no attribute 'iplot'"
     ]
    }
   ],
   "source": [
    "import matplotlib.pyplot as plt\n",
    "fig=plt.figure(figsize=(10,12))\n",
    "df.groupby('Complaint').Text.count().plot."
   ]
  },
  {
   "cell_type": "code",
   "execution_count": null,
   "metadata": {},
   "outputs": [],
   "source": []
  },
  {
   "cell_type": "code",
   "execution_count": 145,
   "metadata": {},
   "outputs": [
    {
     "data": {
      "text/plain": [
       "0                             Bedroll Complaints\n",
       "1                                    Misc. Cause\n",
       "2                     Working of Enquiry Offices\n",
       "3           Maintenance / Cleanliness of coaches\n",
       "4           Maintenance / Cleanliness of coaches\n",
       "5                                    Misc. Cause\n",
       "6                                    Misc. Cause\n",
       "7                                    Misc. Cause\n",
       "8                  Catering and Vending Services\n",
       "9                  Catering and Vending Services\n",
       "10                 Catering and Vending Services\n",
       "11                 Catering and Vending Services\n",
       "12          Maintenance / Cleanliness of coaches\n",
       "13          Maintenance / Cleanliness of coaches\n",
       "14        Improper behaviour of commercial staff\n",
       "15                                   Misc. Cause\n",
       "16        Improper behaviour of commercial staff\n",
       "17          Booking of Luggage / Parcels / Goods\n",
       "18          Booking of Luggage / Parcels / Goods\n",
       "19          Booking of Luggage / Parcels / Goods\n",
       "20                 Catering and Vending Services\n",
       "21                 Catering and Vending Services\n",
       "22                 Catering and Vending Services\n",
       "23                                   Misc. Cause\n",
       "24                                   Misc. Cause\n",
       "25                                   Misc. Cause\n",
       "26                                   Misc. Cause\n",
       "27                                   Misc. Cause\n",
       "28          Maintenance / Cleanliness of coaches\n",
       "29                          Punctuality of Train\n",
       "                           ...                  \n",
       "203429             Catering and Vending Services\n",
       "203430    Malfunctioning of Electrical Equipment\n",
       "203431                               Misc. Cause\n",
       "203432                 Non availability of Water\n",
       "203433    Malfunctioning of Electrical Equipment\n",
       "203434    Malfunctioning of Electrical Equipment\n",
       "203435                               Misc. Cause\n",
       "203436    Malfunctioning of Electrical Equipment\n",
       "203437                      Punctuality of Train\n",
       "203438      Maintenance / Cleanliness of coaches\n",
       "203439      Maintenance / Cleanliness of coaches\n",
       "203440    Malfunctioning of Electrical Equipment\n",
       "203441                               Misc. Cause\n",
       "203442    Malfunctioning of Electrical Equipment\n",
       "203443                 Non availability of Water\n",
       "203444        Unauthorised passengers in coaches\n",
       "203445                               Misc. Cause\n",
       "203446                      Punctuality of Train\n",
       "203447                      Punctuality of Train\n",
       "203448                      Punctuality of Train\n",
       "203449    Malfunctioning of Electrical Equipment\n",
       "203450                 Non availability of Water\n",
       "203451    Malfunctioning of Electrical Equipment\n",
       "203452    Malfunctioning of Electrical Equipment\n",
       "203453                 Non availability of Water\n",
       "203454        Unauthorised passengers in coaches\n",
       "203455      Maintenance / Cleanliness of coaches\n",
       "203456    Malfunctioning of Electrical Equipment\n",
       "203457             Catering and Vending Services\n",
       "203458    Malfunctioning of Electrical Equipment\n",
       "Name: Complaint, Length: 203459, dtype: object"
      ]
     },
     "execution_count": 145,
     "metadata": {},
     "output_type": "execute_result"
    }
   ],
   "source": [
    "df.Complaint.replace('parking','Misc. Cause')\n"
   ]
  },
  {
   "cell_type": "code",
   "execution_count": 146,
   "metadata": {},
   "outputs": [
    {
     "data": {
      "text/plain": [
       "Misc. Cause                                   40507\n",
       "Malfunctioning of Electrical Equipment        31067\n",
       "Maintenance / Cleanliness of coaches          30956\n",
       "Punctuality of Train                          28000\n",
       "Non availability of Water                     16032\n",
       "Catering and Vending Services                 14351\n",
       "Unauthorised passengers in coaches             8555\n",
       "Bedroll Complaints                             7201\n",
       "Booking of Luggage / Parcels / Goods           5642\n",
       "Refund of tickets                              4520\n",
       "Improper behaviour of commercial staff         3430\n",
       "Feedback/Suggestions                           1752\n",
       "Thefts / Pilferages                            1536\n",
       "Working of Enquiry Offices                     1409\n",
       "Allotment of seats - berths by train staff     1328\n",
       "Improper behaviour of non commercial staff     1149\n",
       "Passenger Booking                              1077\n",
       "Multiple complaints                             913\n",
       "Cleanliness at Station                          906\n",
       "Reservation Issues                              861\n",
       "Bribery and corruption                          825\n",
       "Improper behaviour of non railway staff         682\n",
       "Emergency Assistance                            319\n",
       "Complaints related to Sleeper Class             172\n",
       "Security                                        142\n",
       "Retiring Room (ONLINE)                           55\n",
       "WIFI Service                                     27\n",
       "Publicity                                        23\n",
       "parking                                          22\n",
       "Name: Complaint, dtype: int64"
      ]
     },
     "execution_count": 146,
     "metadata": {},
     "output_type": "execute_result"
    }
   ],
   "source": [
    "df.Complaint.value_counts()"
   ]
  },
  {
   "cell_type": "code",
   "execution_count": 72,
   "metadata": {},
   "outputs": [],
   "source": [
    "def change(comp):\n",
    "    if comp in ['parking','Complaints related to Sleeper Class','Security','Retiring Room (ONLINE)','WIFI Service','Publicity']:\n",
    "        comp='Misc. Cause'\n",
    "    return comp"
   ]
  },
  {
   "cell_type": "code",
   "execution_count": 73,
   "metadata": {},
   "outputs": [],
   "source": [
    "df['comp2']=df['Complaint'].apply(change)"
   ]
  },
  {
   "cell_type": "code",
   "execution_count": 79,
   "metadata": {},
   "outputs": [
    {
     "data": {
      "text/plain": [
       "<bound method Series.drop of 0                             Bedroll Complaints\n",
       "1                                    Misc. Cause\n",
       "2                     Working of Enquiry Offices\n",
       "3           Maintenance / Cleanliness of coaches\n",
       "4           Maintenance / Cleanliness of coaches\n",
       "5                                    Misc. Cause\n",
       "6                                    Misc. Cause\n",
       "7                                    Misc. Cause\n",
       "8                  Catering and Vending Services\n",
       "9                  Catering and Vending Services\n",
       "10                 Catering and Vending Services\n",
       "11                 Catering and Vending Services\n",
       "12          Maintenance / Cleanliness of coaches\n",
       "13          Maintenance / Cleanliness of coaches\n",
       "14        Improper behaviour of commercial staff\n",
       "15                                   Misc. Cause\n",
       "16        Improper behaviour of commercial staff\n",
       "17          Booking of Luggage / Parcels / Goods\n",
       "18          Booking of Luggage / Parcels / Goods\n",
       "19          Booking of Luggage / Parcels / Goods\n",
       "20                 Catering and Vending Services\n",
       "21                 Catering and Vending Services\n",
       "22                 Catering and Vending Services\n",
       "23                                   Misc. Cause\n",
       "24                                   Misc. Cause\n",
       "25                                   Misc. Cause\n",
       "26                                   Misc. Cause\n",
       "27                                   Misc. Cause\n",
       "28          Maintenance / Cleanliness of coaches\n",
       "29                          Punctuality of Train\n",
       "                           ...                  \n",
       "203440             Catering and Vending Services\n",
       "203441    Malfunctioning of Electrical Equipment\n",
       "203442                               Misc. Cause\n",
       "203443                 Non availability of Water\n",
       "203444    Malfunctioning of Electrical Equipment\n",
       "203445    Malfunctioning of Electrical Equipment\n",
       "203446                               Misc. Cause\n",
       "203447    Malfunctioning of Electrical Equipment\n",
       "203448                      Punctuality of Train\n",
       "203449      Maintenance / Cleanliness of coaches\n",
       "203450      Maintenance / Cleanliness of coaches\n",
       "203451    Malfunctioning of Electrical Equipment\n",
       "203452                               Misc. Cause\n",
       "203453    Malfunctioning of Electrical Equipment\n",
       "203454                 Non availability of Water\n",
       "203455        Unauthorised passengers in coaches\n",
       "203456                               Misc. Cause\n",
       "203457                      Punctuality of Train\n",
       "203458                      Punctuality of Train\n",
       "203459                      Punctuality of Train\n",
       "203460    Malfunctioning of Electrical Equipment\n",
       "203461                 Non availability of Water\n",
       "203462    Malfunctioning of Electrical Equipment\n",
       "203463    Malfunctioning of Electrical Equipment\n",
       "203464                 Non availability of Water\n",
       "203465        Unauthorised passengers in coaches\n",
       "203466      Maintenance / Cleanliness of coaches\n",
       "203467    Malfunctioning of Electrical Equipment\n",
       "203468             Catering and Vending Services\n",
       "203469    Malfunctioning of Electrical Equipment\n",
       "Name: Complaint, Length: 203459, dtype: object>"
      ]
     },
     "execution_count": 79,
     "metadata": {},
     "output_type": "execute_result"
    }
   ],
   "source": [
    "df.Complaint.drop"
   ]
  },
  {
   "cell_type": "code",
   "execution_count": 87,
   "metadata": {},
   "outputs": [],
   "source": [
    "latest=df[{'Text','Complaint','Sub_Complaint','clean_text','complaint_id'}]"
   ]
  },
  {
   "cell_type": "code",
   "execution_count": 97,
   "metadata": {},
   "outputs": [],
   "source": []
  },
  {
   "cell_type": "code",
   "execution_count": null,
   "metadata": {},
   "outputs": [],
   "source": []
  },
  {
   "cell_type": "code",
   "execution_count": 148,
   "metadata": {},
   "outputs": [
    {
     "ename": "KeyboardInterrupt",
     "evalue": "",
     "output_type": "error",
     "traceback": [
      "\u001b[0;31m---------------------------------------------------------------------------\u001b[0m",
      "\u001b[0;31mKeyboardInterrupt\u001b[0m                         Traceback (most recent call last)",
      "\u001b[0;32m<ipython-input-148-74151a9d5dbc>\u001b[0m in \u001b[0;36m<module>\u001b[0;34m()\u001b[0m\n\u001b[1;32m      1\u001b[0m \u001b[0mtop_n\u001b[0m\u001b[0;34m=\u001b[0m\u001b[0;36m15\u001b[0m\u001b[0;34m\u001b[0m\u001b[0;34m\u001b[0m\u001b[0m\n\u001b[1;32m      2\u001b[0m \u001b[0mtext_Bedroll_Complaints\u001b[0m\u001b[0;34m=\u001b[0m\u001b[0mdf\u001b[0m\u001b[0;34m[\u001b[0m\u001b[0;34m'clean_text'\u001b[0m\u001b[0;34m]\u001b[0m\u001b[0;34m.\u001b[0m\u001b[0mtolist\u001b[0m\u001b[0;34m(\u001b[0m\u001b[0;34m)\u001b[0m\u001b[0;34m\u001b[0m\u001b[0;34m\u001b[0m\u001b[0m\n\u001b[0;32m----> 3\u001b[0;31m \u001b[0mBedroll_Complaints\u001b[0m\u001b[0;34m=\u001b[0m\u001b[0mword_freq_bigrams\u001b[0m\u001b[0;34m(\u001b[0m\u001b[0mtext_Bedroll_Complaints\u001b[0m\u001b[0;34m,\u001b[0m\u001b[0mtop_n\u001b[0m\u001b[0;34m=\u001b[0m\u001b[0mtop_n\u001b[0m\u001b[0;34m)\u001b[0m\u001b[0;34m\u001b[0m\u001b[0;34m\u001b[0m\u001b[0m\n\u001b[0m",
      "\u001b[0;32m<ipython-input-142-34045876e652>\u001b[0m in \u001b[0;36mword_freq_bigrams\u001b[0;34m(clean_text_list, top_n)\u001b[0m\n\u001b[1;32m     15\u001b[0m     \u001b[0mWord\u001b[0m \u001b[0mFrequency\u001b[0m \u001b[0mWith\u001b[0m \u001b[0mBigrams\u001b[0m\u001b[0;34m\u001b[0m\u001b[0;34m\u001b[0m\u001b[0m\n\u001b[1;32m     16\u001b[0m     \"\"\"\n\u001b[0;32m---> 17\u001b[0;31m     \u001b[0mbigram_model\u001b[0m \u001b[0;34m=\u001b[0m \u001b[0mPhrases\u001b[0m\u001b[0;34m(\u001b[0m\u001b[0mclean_text_list\u001b[0m\u001b[0;34m,\u001b[0m \u001b[0mmin_count\u001b[0m\u001b[0;34m=\u001b[0m\u001b[0;36m2\u001b[0m\u001b[0;34m,\u001b[0m \u001b[0mthreshold\u001b[0m\u001b[0;34m=\u001b[0m\u001b[0;36m1\u001b[0m\u001b[0;34m)\u001b[0m\u001b[0;34m\u001b[0m\u001b[0;34m\u001b[0m\u001b[0m\n\u001b[0m\u001b[1;32m     18\u001b[0m     \u001b[0mw_bigrams\u001b[0m \u001b[0;34m=\u001b[0m \u001b[0mlist\u001b[0m\u001b[0;34m(\u001b[0m\u001b[0mbigram_model\u001b[0m\u001b[0;34m[\u001b[0m\u001b[0mclean_text_list\u001b[0m\u001b[0;34m]\u001b[0m\u001b[0;34m)\u001b[0m\u001b[0;34m\u001b[0m\u001b[0;34m\u001b[0m\u001b[0m\n\u001b[1;32m     19\u001b[0m     \u001b[0mflat_w_bigrams\u001b[0m \u001b[0;34m=\u001b[0m \u001b[0;34m[\u001b[0m\u001b[0mitem\u001b[0m \u001b[0;32mfor\u001b[0m \u001b[0msublist\u001b[0m \u001b[0;32min\u001b[0m \u001b[0mw_bigrams\u001b[0m \u001b[0;32mfor\u001b[0m \u001b[0mitem\u001b[0m \u001b[0;32min\u001b[0m \u001b[0msublist\u001b[0m\u001b[0;34m]\u001b[0m\u001b[0;34m\u001b[0m\u001b[0;34m\u001b[0m\u001b[0m\n",
      "\u001b[0;32m~/.local/lib/python3.6/site-packages/gensim/models/phrases.py\u001b[0m in \u001b[0;36m__init__\u001b[0;34m(self, sentences, min_count, threshold, max_vocab_size, delimiter, progress_per, scoring, common_terms)\u001b[0m\n\u001b[1;32m    395\u001b[0m \u001b[0;34m\u001b[0m\u001b[0m\n\u001b[1;32m    396\u001b[0m         \u001b[0;32mif\u001b[0m \u001b[0msentences\u001b[0m \u001b[0;32mis\u001b[0m \u001b[0;32mnot\u001b[0m \u001b[0;32mNone\u001b[0m\u001b[0;34m:\u001b[0m\u001b[0;34m\u001b[0m\u001b[0;34m\u001b[0m\u001b[0m\n\u001b[0;32m--> 397\u001b[0;31m             \u001b[0mself\u001b[0m\u001b[0;34m.\u001b[0m\u001b[0madd_vocab\u001b[0m\u001b[0;34m(\u001b[0m\u001b[0msentences\u001b[0m\u001b[0;34m)\u001b[0m\u001b[0;34m\u001b[0m\u001b[0;34m\u001b[0m\u001b[0m\n\u001b[0m\u001b[1;32m    398\u001b[0m \u001b[0;34m\u001b[0m\u001b[0m\n\u001b[1;32m    399\u001b[0m     \u001b[0;34m@\u001b[0m\u001b[0mclassmethod\u001b[0m\u001b[0;34m\u001b[0m\u001b[0;34m\u001b[0m\u001b[0m\n",
      "\u001b[0;32m~/.local/lib/python3.6/site-packages/gensim/models/phrases.py\u001b[0m in \u001b[0;36madd_vocab\u001b[0;34m(self, sentences)\u001b[0m\n\u001b[1;32m    542\u001b[0m         \u001b[0;31m# counts collected in previous learn_vocab runs.\u001b[0m\u001b[0;34m\u001b[0m\u001b[0;34m\u001b[0m\u001b[0;34m\u001b[0m\u001b[0m\n\u001b[1;32m    543\u001b[0m         min_reduce, vocab, total_words = self.learn_vocab(\n\u001b[0;32m--> 544\u001b[0;31m             sentences, self.max_vocab_size, self.delimiter, self.progress_per, self.common_terms)\n\u001b[0m\u001b[1;32m    545\u001b[0m \u001b[0;34m\u001b[0m\u001b[0m\n\u001b[1;32m    546\u001b[0m         \u001b[0mself\u001b[0m\u001b[0;34m.\u001b[0m\u001b[0mcorpus_word_count\u001b[0m \u001b[0;34m+=\u001b[0m \u001b[0mtotal_words\u001b[0m\u001b[0;34m\u001b[0m\u001b[0;34m\u001b[0m\u001b[0m\n",
      "\u001b[0;32m~/.local/lib/python3.6/site-packages/gensim/models/phrases.py\u001b[0m in \u001b[0;36mlearn_vocab\u001b[0;34m(sentences, max_vocab_size, delimiter, progress_per, common_terms)\u001b[0m\n\u001b[1;32m    489\u001b[0m                     \u001b[0mvocab\u001b[0m\u001b[0;34m[\u001b[0m\u001b[0mword\u001b[0m\u001b[0;34m]\u001b[0m \u001b[0;34m+=\u001b[0m \u001b[0;36m1\u001b[0m\u001b[0;34m\u001b[0m\u001b[0;34m\u001b[0m\u001b[0m\n\u001b[1;32m    490\u001b[0m                     \u001b[0;32mif\u001b[0m \u001b[0mlast_uncommon\u001b[0m \u001b[0;32mis\u001b[0m \u001b[0;32mnot\u001b[0m \u001b[0;32mNone\u001b[0m\u001b[0;34m:\u001b[0m\u001b[0;34m\u001b[0m\u001b[0;34m\u001b[0m\u001b[0m\n\u001b[0;32m--> 491\u001b[0;31m                         \u001b[0mcomponents\u001b[0m \u001b[0;34m=\u001b[0m \u001b[0mit\u001b[0m\u001b[0;34m.\u001b[0m\u001b[0mchain\u001b[0m\u001b[0;34m(\u001b[0m\u001b[0;34m[\u001b[0m\u001b[0mlast_uncommon\u001b[0m\u001b[0;34m]\u001b[0m\u001b[0;34m,\u001b[0m \u001b[0min_between\u001b[0m\u001b[0;34m,\u001b[0m \u001b[0;34m[\u001b[0m\u001b[0mword\u001b[0m\u001b[0;34m]\u001b[0m\u001b[0;34m)\u001b[0m\u001b[0;34m\u001b[0m\u001b[0;34m\u001b[0m\u001b[0m\n\u001b[0m\u001b[1;32m    492\u001b[0m                         \u001b[0mvocab\u001b[0m\u001b[0;34m[\u001b[0m\u001b[0mdelimiter\u001b[0m\u001b[0;34m.\u001b[0m\u001b[0mjoin\u001b[0m\u001b[0;34m(\u001b[0m\u001b[0mcomponents\u001b[0m\u001b[0;34m)\u001b[0m\u001b[0;34m]\u001b[0m \u001b[0;34m+=\u001b[0m \u001b[0;36m1\u001b[0m\u001b[0;34m\u001b[0m\u001b[0;34m\u001b[0m\u001b[0m\n\u001b[1;32m    493\u001b[0m                     \u001b[0mlast_uncommon\u001b[0m \u001b[0;34m=\u001b[0m \u001b[0mword\u001b[0m\u001b[0;34m\u001b[0m\u001b[0;34m\u001b[0m\u001b[0m\n",
      "\u001b[0;31mKeyboardInterrupt\u001b[0m: "
     ]
    }
   ],
   "source": [
    "top_n=15\n",
    "text_Bedroll_Complaints=df['clean_text'].tolist()\n",
    "Bedroll_Complaints=word_freq_bigrams(text_Bedroll_Complaints,top_n=top_n)"
   ]
  },
  {
   "cell_type": "code",
   "execution_count": 80,
   "metadata": {},
   "outputs": [
    {
     "data": {
      "text/plain": [
       "0                             Bedroll Complaints\n",
       "1                                    Misc. Cause\n",
       "2                     Working of Enquiry Offices\n",
       "3           Maintenance / Cleanliness of coaches\n",
       "4           Maintenance / Cleanliness of coaches\n",
       "5                                    Misc. Cause\n",
       "6                                    Misc. Cause\n",
       "7                                    Misc. Cause\n",
       "8                  Catering and Vending Services\n",
       "9                  Catering and Vending Services\n",
       "10                 Catering and Vending Services\n",
       "11                 Catering and Vending Services\n",
       "12          Maintenance / Cleanliness of coaches\n",
       "13          Maintenance / Cleanliness of coaches\n",
       "14        Improper behaviour of commercial staff\n",
       "15                                   Misc. Cause\n",
       "16        Improper behaviour of commercial staff\n",
       "17          Booking of Luggage / Parcels / Goods\n",
       "18          Booking of Luggage / Parcels / Goods\n",
       "19          Booking of Luggage / Parcels / Goods\n",
       "20                 Catering and Vending Services\n",
       "21                 Catering and Vending Services\n",
       "22                 Catering and Vending Services\n",
       "23                                   Misc. Cause\n",
       "24                                   Misc. Cause\n",
       "25                                   Misc. Cause\n",
       "26                                   Misc. Cause\n",
       "27                                   Misc. Cause\n",
       "28          Maintenance / Cleanliness of coaches\n",
       "29                          Punctuality of Train\n",
       "                           ...                  \n",
       "203440             Catering and Vending Services\n",
       "203441    Malfunctioning of Electrical Equipment\n",
       "203442                               Misc. Cause\n",
       "203443                 Non availability of Water\n",
       "203444    Malfunctioning of Electrical Equipment\n",
       "203445    Malfunctioning of Electrical Equipment\n",
       "203446                               Misc. Cause\n",
       "203447    Malfunctioning of Electrical Equipment\n",
       "203448                      Punctuality of Train\n",
       "203449      Maintenance / Cleanliness of coaches\n",
       "203450      Maintenance / Cleanliness of coaches\n",
       "203451    Malfunctioning of Electrical Equipment\n",
       "203452                               Misc. Cause\n",
       "203453    Malfunctioning of Electrical Equipment\n",
       "203454                 Non availability of Water\n",
       "203455        Unauthorised passengers in coaches\n",
       "203456                               Misc. Cause\n",
       "203457                      Punctuality of Train\n",
       "203458                      Punctuality of Train\n",
       "203459                      Punctuality of Train\n",
       "203460    Malfunctioning of Electrical Equipment\n",
       "203461                 Non availability of Water\n",
       "203462    Malfunctioning of Electrical Equipment\n",
       "203463    Malfunctioning of Electrical Equipment\n",
       "203464                 Non availability of Water\n",
       "203465        Unauthorised passengers in coaches\n",
       "203466      Maintenance / Cleanliness of coaches\n",
       "203467    Malfunctioning of Electrical Equipment\n",
       "203468             Catering and Vending Services\n",
       "203469    Malfunctioning of Electrical Equipment\n",
       "Name: Complaint, Length: 203459, dtype: object"
      ]
     },
     "execution_count": 80,
     "metadata": {},
     "output_type": "execute_result"
    }
   ],
   "source": [
    "df.comp2.rename(\"Complaint\")"
   ]
  },
  {
   "cell_type": "code",
   "execution_count": 83,
   "metadata": {},
   "outputs": [
    {
     "data": {
      "text/plain": [
       "Index(['Unnamed: 0', 'Unnamed: 0.1', 'Text', 'Complaint', 'Sub_Complaint',\n",
       "       'clean_text', 'complaint_id', 'word_count', 'comp2'],\n",
       "      dtype='object')"
      ]
     },
     "execution_count": 83,
     "metadata": {},
     "output_type": "execute_result"
    }
   ],
   "source": [
    "df.columns"
   ]
  },
  {
   "cell_type": "code",
   "execution_count": 30,
   "metadata": {},
   "outputs": [
    {
     "ename": "NameError",
     "evalue": "name 'text_Bedroll_Complaints' is not defined",
     "output_type": "error",
     "traceback": [
      "\u001b[0;31m---------------------------------------------------------------------------\u001b[0m",
      "\u001b[0;31mNameError\u001b[0m                                 Traceback (most recent call last)",
      "\u001b[0;32m<ipython-input-30-0fa8ba6f8666>\u001b[0m in \u001b[0;36m<module>\u001b[0;34m()\u001b[0m\n\u001b[0;32m----> 1\u001b[0;31m \u001b[0mBedroll_Complaints1\u001b[0m\u001b[0;34m=\u001b[0m\u001b[0mbigram_freq\u001b[0m\u001b[0;34m(\u001b[0m\u001b[0mtext_Bedroll_Complaints\u001b[0m\u001b[0;34m,\u001b[0m\u001b[0mtop_n\u001b[0m\u001b[0;34m=\u001b[0m\u001b[0mtop_n\u001b[0m\u001b[0;34m)\u001b[0m\u001b[0;34m\u001b[0m\u001b[0;34m\u001b[0m\u001b[0m\n\u001b[0m",
      "\u001b[0;31mNameError\u001b[0m: name 'text_Bedroll_Complaints' is not defined"
     ]
    }
   ],
   "source": [
    "Bedroll_Complaints1=bigram_freq(text_Bedroll_Complaints,top_n=top_n)"
   ]
  },
  {
   "cell_type": "code",
   "execution_count": null,
   "metadata": {},
   "outputs": [],
   "source": [
    "print(Bedroll_Complaints1)\n",
    "fig,ax=plt.subplots(2,2,figsize=(12,10))\n",
    "bins=30\n",
    "ax[0,0].hist="
   ]
  },
  {
   "cell_type": "code",
   "execution_count": null,
   "metadata": {},
   "outputs": [],
   "source": []
  },
  {
   "cell_type": "code",
   "execution_count": 31,
   "metadata": {},
   "outputs": [],
   "source": [
    "from sklearn.feature_extraction.text import TfidfVectorizer\n",
    "tfidf=TfidfVectorizer(ngram_range=(1,2),min_df=2,max_df=0.95)\n",
    "X=tfidf.fit_transform(df['clean_text'].astype('str'))"
   ]
  },
  {
   "cell_type": "code",
   "execution_count": 32,
   "metadata": {},
   "outputs": [
    {
     "name": "stdout",
     "output_type": "stream",
     "text": [
      "(203459, 396587) (203459,)\n"
     ]
    }
   ],
   "source": [
    "y=df['complaint_id']\n",
    "print(X.shape,y.shape)"
   ]
  },
  {
   "cell_type": "code",
   "execution_count": 33,
   "metadata": {},
   "outputs": [],
   "source": [
    "\n",
    "'''Features'''\n",
    "from sklearn.preprocessing import LabelEncoder\n",
    "from sklearn.feature_extraction.text import TfidfVectorizer\n",
    "from sklearn.decomposition import TruncatedSVD\n",
    "from sklearn.preprocessing import label_binarize"
   ]
  },
  {
   "cell_type": "code",
   "execution_count": 34,
   "metadata": {},
   "outputs": [
    {
     "data": {
      "text/plain": [
       "(203459, 100)"
      ]
     },
     "execution_count": 34,
     "metadata": {},
     "output_type": "execute_result"
    }
   ],
   "source": [
    "#dimensionality reduction of 100 features\n",
    "lsa=TruncatedSVD(n_components=100,n_iter=10,random_state=3)\n",
    "X=lsa.fit_transform(X)\n",
    "X.shape"
   ]
  },
  {
   "cell_type": "code",
   "execution_count": 35,
   "metadata": {},
   "outputs": [],
   "source": [
    "from sklearn.model_selection import train_test_split\n",
    "from sklearn.feature_extraction.text import CountVectorizer\n",
    "from sklearn.naive_bayes import MultinomialNB"
   ]
  },
  {
   "cell_type": "code",
   "execution_count": 36,
   "metadata": {},
   "outputs": [
    {
     "name": "stdout",
     "output_type": "stream",
     "text": [
      "3\n"
     ]
    }
   ],
   "source": [
    "#X_train,X_test,y_train,y_test=train_test_split(X,y,random_state=0)\n",
    "print(3)"
   ]
  },
  {
   "cell_type": "code",
   "execution_count": 37,
   "metadata": {},
   "outputs": [],
   "source": [
    "\n",
    "'''Classifiers'''\n",
    "from sklearn.dummy import DummyClassifier\n",
    "from sklearn.linear_model import SGDClassifier\n",
    "from sklearn.naive_bayes import GaussianNB\n",
    "from sklearn.tree import DecisionTreeClassifier\n",
    "from sklearn.ensemble import RandomForestClassifier, AdaBoostClassifier\n",
    "from sklearn.neighbors import KNeighborsClassifier\n",
    "from sklearn.multiclass import OneVsRestClassifier\n",
    "\n",
    "'''Metrics/Evaluation'''\n",
    "from sklearn.model_selection import train_test_split\n",
    "from sklearn.model_selection import GridSearchCV\n",
    "from sklearn.metrics import accuracy_score, precision_score, recall_score, f1_score, roc_curve, auc, confusion_matrix\n",
    "from scipy import interp\n",
    "from itertools import cycle\n",
    "\n",
    "'''Plotting'''\n",
    "import matplotlib.pyplot as plt\n",
    "import seaborn as sns\n",
    "sns.set_style('darkgrid')"
   ]
  },
  {
   "cell_type": "code",
   "execution_count": 43,
   "metadata": {},
   "outputs": [],
   "source": [
    "#preliminary model evaluation using default parameter\n",
    "#creating dict of models\n",
    "\n",
    "model_dict={'Dummy' : DummyClassifier(random_state=3),\n",
    "             'Stochastic Gradient Descent' : SGDClassifier(random_state=3, loss='log'),\n",
    "              'Random Forest': RandomForestClassifier(random_state=3),\n",
    "              'Decsision Tree': DecisionTreeClassifier(random_state=3),\n",
    "              'AdaBoost': AdaBoostClassifier(random_state=3),\n",
    "              'Gaussian Naive Bayes': GaussianNB(),\n",
    "              'K Nearest Neighbor': KNeighborsClassifier()\n",
    "          }"
   ]
  },
  {
   "cell_type": "code",
   "execution_count": null,
   "metadata": {},
   "outputs": [],
   "source": []
  },
  {
   "cell_type": "code",
   "execution_count": 44,
   "metadata": {},
   "outputs": [],
   "source": [
    "X_train,X_test,y_train,y_test=train_test_split(X,y,test_size=0.3,shuffle=True,stratify=y,random_state=3)"
   ]
  },
  {
   "cell_type": "code",
   "execution_count": null,
   "metadata": {},
   "outputs": [],
   "source": []
  },
  {
   "cell_type": "code",
   "execution_count": 45,
   "metadata": {},
   "outputs": [],
   "source": [
    "#Function to get the scores for each model in a df\n",
    "def model_score_df(model_dict):   \n",
    "    model_name, ac_score_list, p_score_list, r_score_list, f1_score_list = [], [], [], [], []\n",
    "    for k,v in model_dict.items():   \n",
    "        model_name.append(k)\n",
    "        v.fit(X_train, y_train)\n",
    "        y_pred = v.predict(X_test)\n",
    "        ac_score_list.append(accuracy_score(y_test, y_pred))\n",
    "        p_score_list.append(precision_score(y_test, y_pred, average='macro'))\n",
    "        r_score_list.append(recall_score(y_test, y_pred, average='macro'))\n",
    "        f1_score_list.append(f1_score(y_test, y_pred, average='macro'))\n",
    "        model_comparison_df = pd.DataFrame([model_name, ac_score_list, p_score_list, r_score_list, f1_score_list]).T\n",
    "        model_comparison_df.columns = ['model_name', 'accuracy_score', 'precision_score', 'recall_score', 'f1_score']\n",
    "        model_comparison_df = model_comparison_df.sort_values(by='f1_score', ascending=False)\n",
    "    return model_comparison_df\n"
   ]
  },
  {
   "cell_type": "code",
   "execution_count": 46,
   "metadata": {},
   "outputs": [
    {
     "name": "stderr",
     "output_type": "stream",
     "text": [
      "/home/anubhav/.local/lib/python3.6/site-packages/sklearn/linear_model/stochastic_gradient.py:166: FutureWarning: max_iter and tol parameters have been added in SGDClassifier in 0.19. If both are left unset, they default to max_iter=5 and tol=None. If tol is not None, max_iter defaults to max_iter=1000. From 0.21, default max_iter will be 1000, and default tol will be 1e-3.\n",
      "  FutureWarning)\n",
      "/home/anubhav/.local/lib/python3.6/site-packages/sklearn/metrics/classification.py:1143: UndefinedMetricWarning: Precision is ill-defined and being set to 0.0 in labels with no predicted samples.\n",
      "  'precision', 'predicted', average, warn_for)\n",
      "/home/anubhav/.local/lib/python3.6/site-packages/sklearn/metrics/classification.py:1143: UndefinedMetricWarning: F-score is ill-defined and being set to 0.0 in labels with no predicted samples.\n",
      "  'precision', 'predicted', average, warn_for)\n",
      "/home/anubhav/.local/lib/python3.6/site-packages/sklearn/ensemble/forest.py:246: FutureWarning: The default value of n_estimators will change from 10 in version 0.20 to 100 in 0.22.\n",
      "  \"10 in version 0.20 to 100 in 0.22.\", FutureWarning)\n",
      "/home/anubhav/.local/lib/python3.6/site-packages/sklearn/metrics/classification.py:1143: UndefinedMetricWarning: Precision is ill-defined and being set to 0.0 in labels with no predicted samples.\n",
      "  'precision', 'predicted', average, warn_for)\n",
      "/home/anubhav/.local/lib/python3.6/site-packages/sklearn/metrics/classification.py:1143: UndefinedMetricWarning: F-score is ill-defined and being set to 0.0 in labels with no predicted samples.\n",
      "  'precision', 'predicted', average, warn_for)\n",
      "/home/anubhav/.local/lib/python3.6/site-packages/sklearn/metrics/classification.py:1143: UndefinedMetricWarning: Precision is ill-defined and being set to 0.0 in labels with no predicted samples.\n",
      "  'precision', 'predicted', average, warn_for)\n",
      "/home/anubhav/.local/lib/python3.6/site-packages/sklearn/metrics/classification.py:1143: UndefinedMetricWarning: F-score is ill-defined and being set to 0.0 in labels with no predicted samples.\n",
      "  'precision', 'predicted', average, warn_for)\n",
      "/home/anubhav/.local/lib/python3.6/site-packages/sklearn/metrics/classification.py:1143: UndefinedMetricWarning: Precision is ill-defined and being set to 0.0 in labels with no predicted samples.\n",
      "  'precision', 'predicted', average, warn_for)\n",
      "/home/anubhav/.local/lib/python3.6/site-packages/sklearn/metrics/classification.py:1143: UndefinedMetricWarning: F-score is ill-defined and being set to 0.0 in labels with no predicted samples.\n",
      "  'precision', 'predicted', average, warn_for)\n"
     ]
    },
    {
     "data": {
      "text/html": [
       "<div>\n",
       "<style scoped>\n",
       "    .dataframe tbody tr th:only-of-type {\n",
       "        vertical-align: middle;\n",
       "    }\n",
       "\n",
       "    .dataframe tbody tr th {\n",
       "        vertical-align: top;\n",
       "    }\n",
       "\n",
       "    .dataframe thead th {\n",
       "        text-align: right;\n",
       "    }\n",
       "</style>\n",
       "<table border=\"1\" class=\"dataframe\">\n",
       "  <thead>\n",
       "    <tr style=\"text-align: right;\">\n",
       "      <th></th>\n",
       "      <th>model_name</th>\n",
       "      <th>accuracy_score</th>\n",
       "      <th>precision_score</th>\n",
       "      <th>recall_score</th>\n",
       "      <th>f1_score</th>\n",
       "    </tr>\n",
       "  </thead>\n",
       "  <tbody>\n",
       "    <tr>\n",
       "      <th>2</th>\n",
       "      <td>Random Forest</td>\n",
       "      <td>0.636145</td>\n",
       "      <td>0.405192</td>\n",
       "      <td>0.30264</td>\n",
       "      <td>0.333574</td>\n",
       "    </tr>\n",
       "    <tr>\n",
       "      <th>3</th>\n",
       "      <td>Decsision Tree</td>\n",
       "      <td>0.573987</td>\n",
       "      <td>0.307021</td>\n",
       "      <td>0.289627</td>\n",
       "      <td>0.296911</td>\n",
       "    </tr>\n",
       "    <tr>\n",
       "      <th>6</th>\n",
       "      <td>K Nearest Neighbor</td>\n",
       "      <td>0.566598</td>\n",
       "      <td>0.297391</td>\n",
       "      <td>0.242526</td>\n",
       "      <td>0.253939</td>\n",
       "    </tr>\n",
       "    <tr>\n",
       "      <th>1</th>\n",
       "      <td>Stochastic Gradient Descent</td>\n",
       "      <td>0.562502</td>\n",
       "      <td>0.250991</td>\n",
       "      <td>0.174374</td>\n",
       "      <td>0.189644</td>\n",
       "    </tr>\n",
       "    <tr>\n",
       "      <th>5</th>\n",
       "      <td>Gaussian Naive Bayes</td>\n",
       "      <td>0.294538</td>\n",
       "      <td>0.21174</td>\n",
       "      <td>0.268216</td>\n",
       "      <td>0.176782</td>\n",
       "    </tr>\n",
       "    <tr>\n",
       "      <th>4</th>\n",
       "      <td>AdaBoost</td>\n",
       "      <td>0.382499</td>\n",
       "      <td>0.140443</td>\n",
       "      <td>0.126732</td>\n",
       "      <td>0.120182</td>\n",
       "    </tr>\n",
       "    <tr>\n",
       "      <th>0</th>\n",
       "      <td>Dummy</td>\n",
       "      <td>0.122465</td>\n",
       "      <td>0.034808</td>\n",
       "      <td>0.034774</td>\n",
       "      <td>0.0347845</td>\n",
       "    </tr>\n",
       "  </tbody>\n",
       "</table>\n",
       "</div>"
      ],
      "text/plain": [
       "                    model_name accuracy_score precision_score recall_score  \\\n",
       "2                Random Forest       0.636145        0.405192      0.30264   \n",
       "3               Decsision Tree       0.573987        0.307021     0.289627   \n",
       "6           K Nearest Neighbor       0.566598        0.297391     0.242526   \n",
       "1  Stochastic Gradient Descent       0.562502        0.250991     0.174374   \n",
       "5         Gaussian Naive Bayes       0.294538         0.21174     0.268216   \n",
       "4                     AdaBoost       0.382499        0.140443     0.126732   \n",
       "0                        Dummy       0.122465        0.034808     0.034774   \n",
       "\n",
       "    f1_score  \n",
       "2   0.333574  \n",
       "3   0.296911  \n",
       "6   0.253939  \n",
       "1   0.189644  \n",
       "5   0.176782  \n",
       "4   0.120182  \n",
       "0  0.0347845  "
      ]
     },
     "execution_count": 46,
     "metadata": {},
     "output_type": "execute_result"
    }
   ],
   "source": [
    "model_score_df(model_dict)"
   ]
  },
  {
   "cell_type": "code",
   "execution_count": null,
   "metadata": {},
   "outputs": [],
   "source": []
  }
 ],
 "metadata": {
  "kernelspec": {
   "display_name": "Python 3",
   "language": "python",
   "name": "python3"
  },
  "language_info": {
   "codemirror_mode": {
    "name": "ipython",
    "version": 3
   },
   "file_extension": ".py",
   "mimetype": "text/x-python",
   "name": "python",
   "nbconvert_exporter": "python",
   "pygments_lexer": "ipython3",
   "version": "3.6.7"
  }
 },
 "nbformat": 4,
 "nbformat_minor": 2
}
