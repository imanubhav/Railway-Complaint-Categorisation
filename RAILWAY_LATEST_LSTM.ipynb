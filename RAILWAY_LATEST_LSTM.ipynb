{
  "nbformat": 4,
  "nbformat_minor": 0,
  "metadata": {
    "colab": {
      "name": "RAILWAY_LATEST.ipynb",
      "provenance": [],
      "mount_file_id": "1EfFLJDLbEGkgVVmGYZYGwOyxoYu7lAs0",
      "authorship_tag": "ABX9TyMjrdtv8aDxjmEGGK2GlDvf",
      "include_colab_link": true
    },
    "kernelspec": {
      "name": "python3",
      "display_name": "Python 3"
    },
    "accelerator": "GPU"
  },
  "cells": [
    {
      "cell_type": "markdown",
      "metadata": {
        "id": "view-in-github",
        "colab_type": "text"
      },
      "source": [
        "<a href=\"https://colab.research.google.com/github/imanubhav/Railway-Complaint-Categorisation/blob/master/RAILWAY_LATEST_LSTM.ipynb\" target=\"_parent\"><img src=\"https://colab.research.google.com/assets/colab-badge.svg\" alt=\"Open In Colab\"/></a>"
      ]
    },
    {
      "cell_type": "code",
      "metadata": {
        "id": "xIhIsFswSQlM",
        "colab_type": "code",
        "colab": {}
      },
      "source": [
        "import pandas as pd\n",
        "import numpy as np"
      ],
      "execution_count": 0,
      "outputs": []
    },
    {
      "cell_type": "code",
      "metadata": {
        "id": "tWu9wIUhTYGL",
        "colab_type": "code",
        "colab": {
          "base_uri": "https://localhost:8080/",
          "height": 35
        },
        "outputId": "d078b3d5-55a5-4075-e3b8-26664683f127"
      },
      "source": [
        "from google.colab import drive\n",
        "drive.mount('/content/drive')"
      ],
      "execution_count": 2,
      "outputs": [
        {
          "output_type": "stream",
          "text": [
            "Drive already mounted at /content/drive; to attempt to forcibly remount, call drive.mount(\"/content/drive\", force_remount=True).\n"
          ],
          "name": "stdout"
        }
      ]
    },
    {
      "cell_type": "code",
      "metadata": {
        "id": "dRMYGVc3UXK6",
        "colab_type": "code",
        "colab": {}
      },
      "source": [
        "copied_path = \"drive/My Drive/data.csv\" #remove ‘content/’ from path then use \n",
        "data = pd.read_csv(copied_path)"
      ],
      "execution_count": 0,
      "outputs": []
    },
    {
      "cell_type": "code",
      "metadata": {
        "id": "jrO6_URIUzrJ",
        "colab_type": "code",
        "colab": {}
      },
      "source": [
        "data.columns=['Text','Time','Complaint','Complaint Sub Type']"
      ],
      "execution_count": 0,
      "outputs": []
    },
    {
      "cell_type": "code",
      "metadata": {
        "id": "IBtR-_2nVCxX",
        "colab_type": "code",
        "colab": {}
      },
      "source": [
        "df=data"
      ],
      "execution_count": 0,
      "outputs": []
    },
    {
      "cell_type": "code",
      "metadata": {
        "id": "YdlAKi3QV8lg",
        "colab_type": "code",
        "colab": {}
      },
      "source": [
        "df=df.drop(labels=['Time',\"Complaint Sub Type\"],axis=1)"
      ],
      "execution_count": 0,
      "outputs": []
    },
    {
      "cell_type": "code",
      "metadata": {
        "id": "zv6M58sUXmQl",
        "colab_type": "code",
        "colab": {}
      },
      "source": [
        "df=df[df.Complaint!=\"Accident Claims\"]\n",
        "df=df[df.Complaint!=\"Feedback&Suggestions\"]\n",
        "df=df[df.Complaint!=\"Complaint Related To Kolkata Metro\"]\n",
        "df=df[df.Complaint!=\"\\\\N\"]\n",
        "df=df[df.Complaint!=\"Security\"]\n",
        "df=df[df.Complaint!=\"WIFI Service\"]\n",
        "df=df[df.Complaint!=\"Publicity\"]\n",
        "df=df[df.Complaint!=\"Complaints related to Sleeper Class\"]\n",
        "df=df[df.Complaint!=\"YMisc. Cause\"]\n"
      ],
      "execution_count": 0,
      "outputs": []
    },
    {
      "cell_type": "code",
      "metadata": {
        "id": "WsDM_uLzW8UX",
        "colab_type": "code",
        "colab": {}
      },
      "source": [
        "#combinining classes\n",
        "df.Complaint.replace([\"Passenger Booking\",\"Reservation Issues\",\"Working of Enquiry Offices\",\"Allotment of seats - berths by train staff\",\"Refund of tickets\"],\"Reservation/Enquiry_Office Issues\",inplace=True)\n",
        "df.Complaint.replace([\"Maintenance / Cleanliness of coaches\",\"Cleanliness at Station\"],\"Maintenance / Cleanliness\",inplace=True)\n",
        "df.Complaint.replace([\"Improper behaviour of commercial staff\",\"Improper behaviour of non commercial staff\",\"Improper behaviour of non railway staff\"],\"Improper behaviour of non railway/railway staff\",inplace=True)"
      ],
      "execution_count": 0,
      "outputs": []
    },
    {
      "cell_type": "code",
      "metadata": {
        "id": "W0FppFZ8X--D",
        "colab_type": "code",
        "colab": {}
      },
      "source": [
        "df=df[df.Complaint!=\"Parking\"]\n",
        "df=df[df.Complaint!=\"Retiring Room (ONLINE)\"]\n",
        "df=df[df.Complaint!=\"Multiple complaints\"]"
      ],
      "execution_count": 0,
      "outputs": []
    },
    {
      "cell_type": "code",
      "metadata": {
        "id": "5ox-eEijX0sG",
        "colab_type": "code",
        "colab": {
          "base_uri": "https://localhost:8080/",
          "height": 294
        },
        "outputId": "242732e8-8131-4516-8ac2-d90ed9944251"
      },
      "source": [
        "df.Complaint.value_counts()"
      ],
      "execution_count": 30,
      "outputs": [
        {
          "output_type": "execute_result",
          "data": {
            "text/plain": [
              "Malfunctioning of Electrical Equipment             44346\n",
              "Maintenance / Cleanliness                          42005\n",
              "Punctuality of Train                               39848\n",
              "Non availability of Water Sub                      22743\n",
              "Catering and Vending Services                      17303\n",
              "Unauthorised passengers in coaches                 13227\n",
              "Reservation/Enquiry_Office Issues                  11998\n",
              "Bedroll Complaints                                  9714\n",
              "Improper behaviour of non railway/railway staff     7089\n",
              "Booking of Luggage / Parcels / Goods                6321\n",
              "Feedback/Suggestions                                2295\n",
              "Thefts / Pilferages                                 1545\n",
              "Bribery and corruption                               882\n",
              "Emergency Assistance                                 504\n",
              "Name: Complaint, dtype: int64"
            ]
          },
          "metadata": {
            "tags": []
          },
          "execution_count": 30
        }
      ]
    },
    {
      "cell_type": "code",
      "metadata": {
        "id": "7DDtnCbeX4FF",
        "colab_type": "code",
        "colab": {
          "base_uri": "https://localhost:8080/",
          "height": 206
        },
        "outputId": "cb44e41a-4d83-423b-b254-cfa0561c3ad1"
      },
      "source": [
        "df.head()"
      ],
      "execution_count": 31,
      "outputs": [
        {
          "output_type": "execute_result",
          "data": {
            "text/html": [
              "<div>\n",
              "<style scoped>\n",
              "    .dataframe tbody tr th:only-of-type {\n",
              "        vertical-align: middle;\n",
              "    }\n",
              "\n",
              "    .dataframe tbody tr th {\n",
              "        vertical-align: top;\n",
              "    }\n",
              "\n",
              "    .dataframe thead th {\n",
              "        text-align: right;\n",
              "    }\n",
              "</style>\n",
              "<table border=\"1\" class=\"dataframe\">\n",
              "  <thead>\n",
              "    <tr style=\"text-align: right;\">\n",
              "      <th></th>\n",
              "      <th>Text</th>\n",
              "      <th>Complaint</th>\n",
              "    </tr>\n",
              "  </thead>\n",
              "  <tbody>\n",
              "    <tr>\n",
              "      <th>1</th>\n",
              "      <td>Sr. Citizen discount fare in tatkal sewa from ...</td>\n",
              "      <td>Reservation/Enquiry_Office Issues</td>\n",
              "    </tr>\n",
              "    <tr>\n",
              "      <th>2</th>\n",
              "      <td>RATS ARE PRESENT IN COACH B1 OF TRAIN NUMBER 1...</td>\n",
              "      <td>Maintenance / Cleanliness</td>\n",
              "    </tr>\n",
              "    <tr>\n",
              "      <th>3</th>\n",
              "      <td>12003 coach e1 toilet no 3 leaking vinay pnr 2...</td>\n",
              "      <td>Maintenance / Cleanliness</td>\n",
              "    </tr>\n",
              "    <tr>\n",
              "      <th>7</th>\n",
              "      <td>Train no . 12321 pnr no 6122312493 complain _ ...</td>\n",
              "      <td>Catering and Vending Services</td>\n",
              "    </tr>\n",
              "    <tr>\n",
              "      <th>8</th>\n",
              "      <td>Train no . 12321 pnr no 6122312493 complain _ ...</td>\n",
              "      <td>Catering and Vending Services</td>\n",
              "    </tr>\n",
              "  </tbody>\n",
              "</table>\n",
              "</div>"
            ],
            "text/plain": [
              "                                                Text                          Complaint\n",
              "1  Sr. Citizen discount fare in tatkal sewa from ...  Reservation/Enquiry_Office Issues\n",
              "2  RATS ARE PRESENT IN COACH B1 OF TRAIN NUMBER 1...          Maintenance / Cleanliness\n",
              "3  12003 coach e1 toilet no 3 leaking vinay pnr 2...          Maintenance / Cleanliness\n",
              "7  Train no . 12321 pnr no 6122312493 complain _ ...      Catering and Vending Services\n",
              "8  Train no . 12321 pnr no 6122312493 complain _ ...      Catering and Vending Services"
            ]
          },
          "metadata": {
            "tags": []
          },
          "execution_count": 31
        }
      ]
    },
    {
      "cell_type": "code",
      "metadata": {
        "id": "xYUHFXr1YEJ1",
        "colab_type": "code",
        "colab": {}
      },
      "source": [
        "arr=np.unique(df.Complaint.values)\n",
        "com_dict=dict([(v,k) for k,v in dict(enumerate(arr)).items()])"
      ],
      "execution_count": 0,
      "outputs": []
    },
    {
      "cell_type": "code",
      "metadata": {
        "id": "E3godpOlYRL8",
        "colab_type": "code",
        "colab": {}
      },
      "source": [
        "df['complaint_id']=df['Complaint'].map(com_dict)"
      ],
      "execution_count": 0,
      "outputs": []
    },
    {
      "cell_type": "code",
      "metadata": {
        "id": "NBM-XiQgYYro",
        "colab_type": "code",
        "colab": {
          "base_uri": "https://localhost:8080/",
          "height": 206
        },
        "outputId": "e1bcfe81-006f-4b99-d923-95d08e374c69"
      },
      "source": [
        "df.head()"
      ],
      "execution_count": 35,
      "outputs": [
        {
          "output_type": "execute_result",
          "data": {
            "text/html": [
              "<div>\n",
              "<style scoped>\n",
              "    .dataframe tbody tr th:only-of-type {\n",
              "        vertical-align: middle;\n",
              "    }\n",
              "\n",
              "    .dataframe tbody tr th {\n",
              "        vertical-align: top;\n",
              "    }\n",
              "\n",
              "    .dataframe thead th {\n",
              "        text-align: right;\n",
              "    }\n",
              "</style>\n",
              "<table border=\"1\" class=\"dataframe\">\n",
              "  <thead>\n",
              "    <tr style=\"text-align: right;\">\n",
              "      <th></th>\n",
              "      <th>Text</th>\n",
              "      <th>Complaint</th>\n",
              "      <th>complaint_id</th>\n",
              "    </tr>\n",
              "  </thead>\n",
              "  <tbody>\n",
              "    <tr>\n",
              "      <th>1</th>\n",
              "      <td>Sr. Citizen discount fare in tatkal sewa from ...</td>\n",
              "      <td>Reservation/Enquiry_Office Issues</td>\n",
              "      <td>11</td>\n",
              "    </tr>\n",
              "    <tr>\n",
              "      <th>2</th>\n",
              "      <td>RATS ARE PRESENT IN COACH B1 OF TRAIN NUMBER 1...</td>\n",
              "      <td>Maintenance / Cleanliness</td>\n",
              "      <td>7</td>\n",
              "    </tr>\n",
              "    <tr>\n",
              "      <th>3</th>\n",
              "      <td>12003 coach e1 toilet no 3 leaking vinay pnr 2...</td>\n",
              "      <td>Maintenance / Cleanliness</td>\n",
              "      <td>7</td>\n",
              "    </tr>\n",
              "    <tr>\n",
              "      <th>7</th>\n",
              "      <td>Train no . 12321 pnr no 6122312493 complain _ ...</td>\n",
              "      <td>Catering and Vending Services</td>\n",
              "      <td>3</td>\n",
              "    </tr>\n",
              "    <tr>\n",
              "      <th>8</th>\n",
              "      <td>Train no . 12321 pnr no 6122312493 complain _ ...</td>\n",
              "      <td>Catering and Vending Services</td>\n",
              "      <td>3</td>\n",
              "    </tr>\n",
              "  </tbody>\n",
              "</table>\n",
              "</div>"
            ],
            "text/plain": [
              "                                                Text  ... complaint_id\n",
              "1  Sr. Citizen discount fare in tatkal sewa from ...  ...           11\n",
              "2  RATS ARE PRESENT IN COACH B1 OF TRAIN NUMBER 1...  ...            7\n",
              "3  12003 coach e1 toilet no 3 leaking vinay pnr 2...  ...            7\n",
              "7  Train no . 12321 pnr no 6122312493 complain _ ...  ...            3\n",
              "8  Train no . 12321 pnr no 6122312493 complain _ ...  ...            3\n",
              "\n",
              "[5 rows x 3 columns]"
            ]
          },
          "metadata": {
            "tags": []
          },
          "execution_count": 35
        }
      ]
    },
    {
      "cell_type": "code",
      "metadata": {
        "id": "fhlJECW8YaW8",
        "colab_type": "code",
        "colab": {}
      },
      "source": [
        "com_dict"
      ],
      "execution_count": 0,
      "outputs": []
    },
    {
      "cell_type": "code",
      "metadata": {
        "id": "mfYYZ8IUelw3",
        "colab_type": "code",
        "colab": {}
      },
      "source": [
        "stopwords_hindi=\"a,aadi,aaj,aap,aapne,aata,aati,aaya,aaye,ab,abbe,abbey,abe,abhi,able,about,above,accha,according,accordingly,acha,achcha,across,actually,after,afterwards,again,against,agar,ain,aint,ain't,aisa,aise,aisi,alag,all,allow,allows,almost,alone,along,already,also,although,always,am,among,amongst,an,and,andar,another,any,anybody,anyhow,anyone,anything,anyway,anyways,anywhere,ap,apan,apart,apna,apnaa,apne,apni,appear,are,aren,arent,aren't,around,arre,as,aside,ask,asking,at,aur,avum,aya,aye,baad,baar,bad,bahut,bana,banae,banai,banao,banaya,banaye,banayi,banda,bande,bandi,bane,bani,bas,bata,batao,bc,be,became,because,become,becomes,becoming,been,before,beforehand,behind,being,below,beside,besides,best,better,between,beyond,bhai,bheetar,bhi,bhitar,bht,bilkul,bohot,bol,bola,bole,boli,bolo,bolta,bolte,bolti,both,brief,bro,btw,but,by,came,can,cannot,cant,can't,cause,causes,certain,certainly,chahiye,chaiye,chal,chalega,chhaiye,clearly,c'mon,com,come,comes,could,couldn,couldnt,couldn't,d,de,dede,dega,degi,dekh,dekha,dekhe,dekhi,dekho,denge,dhang,di,did,didn,didnt,didn't,dijiye,diya,diyaa,diye,diyo,do,does,doesn,doesnt,doesn't,doing,done,dono,dont,don't,doosra,doosre,down,downwards,dude,dunga,dungi,during,dusra,dusre,dusri,dvaara,dvara,dwaara,dwara,each,edu,eg,eight,either,ek,else,elsewhere,enough,etc,even,ever,every,everybody,everyone,everything,everywhere,ex,exactly,example,except,far,few,fifth,fir,first,five,followed,following,follows,for,forth,four,from,further,furthermore,gaya,gaye,gayi,get,gets,getting,ghar,given,gives,go,goes,going,gone,good,got,gotten,greetings,haan,had,hadd,hadn,hadnt,hadn't,hai,hain,hamara,hamare,hamari,hamne,han,happens,har,hardly,has,hasn,hasnt,hasn't,have,haven,havent,haven't,having,he,hello,help,hence,her,here,hereafter,hereby,herein,here's,hereupon,hers,herself,he's,hi,him,himself,his,hither,hm,hmm,ho,hoga,hoge,hogi,hona,honaa,hone,honge,hongi,honi,hopefully,hota,hotaa,hote,hoti,how,howbeit,however,hoyenge,hoyengi,hu,hua,hue,huh,hui,hum,humein,humne,hun,huye,huyi,i,i'd,idk,ie,if,i'll,i'm,imo,in,inasmuch,inc,inhe,inhi,inho,inka,inkaa,inke,inki,inn,inner,inse,insofar,into,inward,is,ise,isi,iska,iskaa,iske,iski,isme,isn,isne,isnt,isn't,iss,isse,issi,isski,it,it'd,it'll,itna,itne,itni,itno,its,it's,itself,ityaadi,ityadi,i've,ja,jaa,jab,jabh,jaha,jahaan,jahan,jaisa,jaise,jaisi,jata,jayega,jidhar,jin,jinhe,jinhi,jinho,jinhone,jinka,jinke,jinki,jinn,jis,jise,jiska,jiske,jiski,jisme,jiss,jisse,jitna,jitne,jitni,jo,just,jyaada,jyada,k,ka,kaafi,kab,kabhi,kafi,kaha,kahaa,kahaan,kahan,kahi,kahin,kahte,kaisa,kaise,kaisi,kal,kam,kar,kara,kare,karega,karegi,karen,karenge,kari,karke,karna,karne,karni,karo,karta,karte,karti,karu,karun,karunga,karungi,kaun,kaunsa,kayi,kch,ke,keep,keeps,keh,kehte,kept,khud,ki,kin,kine,kinhe,kinho,kinka,kinke,kinki,kinko,kinn,kino,kis,kise,kisi,kiska,kiske,kiski,kisko,kisliye,kisne,kitna,kitne,kitni,kitno,kiya,kiye,know,known,knows,ko,koi,kon,konsa,koyi,krna,krne,kuch,kuchch,kuchh,kul,kull,kya,kyaa,kyu,kyuki,kyun,kyunki,lagta,lagte,lagti,last,lately,later,le,least,lekar,lekin,less,lest,let,let's,li,like,liked,likely,little,liya,liye,ll,lo,log,logon,lol,look,looking,looks,ltd,lunga,m,maan,maana,maane,maani,maano,magar,mai,main,maine,mainly,mana,mane,mani,mano,many,mat,may,maybe,me,mean,meanwhile,mein,mera,mere,merely,meri,might,mightn,mightnt,mightn't,mil,mjhe,more,moreover,most,mostly,much,mujhe,must,mustn,mustnt,mustn't,my,myself,na,naa,naah,nahi,nahin,nai,name,namely,nd,ne,near,nearly,necessary,neeche,need,needn,neednt,needn't,needs,neither,never,nevertheless,new,next,nhi,nine,no,nobody,non,none,noone,nope,nor,normally,not,nothing,novel,now,nowhere,o,obviously,of,off,often,oh,ok,okay,old,on,once,one,ones,only,onto,or,other,others,otherwise,ought,our,ours,ourselves,out,outside,over,overall,own,par,pata,pe,pehla,pehle,pehli,people,per,perhaps,phla,phle,phli,placed,please,plus,poora,poori,provides,pura,puri,q,que,quite,raha,rahaa,rahe,rahi,rakh,rakha,rakhe,rakhen,rakhi,rakho,rather,re,really,reasonably,regarding,regardless,regards,rehte,rha,rhaa,rhe,rhi,ri,right,s,sa,saara,saare,saath,sab,sabhi,sabse,sahi,said,sakta,saktaa,sakte,sakti,same,sang,sara,sath,saw,say,saying,says,se,second,secondly,see,seeing,seem,seemed,seeming,seems,seen,self,selves,sensible,sent,serious,seriously,seven,several,shall,shan,shant,shan't,she,she's,should,shouldn,shouldnt,shouldn't,should've,si,since,six,so,soch,some,somebody,somehow,someone,something,sometime,sometimes,somewhat,somewhere,soon,still,sub,such,sup,sure,t,tab,tabh,tak,take,taken,tarah,teen,teeno,teesra,teesre,teesri,tell,tends,tera,tere,teri,th,tha,than,thank,thanks,thanx,that,that'll,thats,that's,the,theek,their,theirs,them,themselves,then,thence,there,thereafter,thereby,therefore,therein,theres,there's,thereupon,these,they,they'd,they'll,they're,they've,thi,thik,thing,think,thinking,third,this,tho,thoda,thodi,thorough,thoroughly,those,though,thought,three,through,throughout,thru,thus,tjhe,to,together,toh,too,took,toward ,towards,tried,tries,true,truly,try,trying,tu,tujhe,tum,tumhara,tumhare,tumhari,tune,twice,two,um,umm,un,under,unhe,unhi,unho,unhone,unka,unkaa,unke,unki,unko,unless,unlikely,unn,unse,until,unto,up,upar,upon,us,use,used,useful,uses,usi,using,uska,uske,usne,uss,usse,ussi,usually,vaala,vaale,vaali,vahaan,vahan,vahi,vahin,vaisa,vaise,vaisi,vala,vale,vali,various,ve,very,via,viz,vo,waala,waale,waali,wagaira,wagairah,wagerah,waha,wahaan,wahan,wahi,wahin,waisa,waise,waisi,wala,wale,wali,want,wants,was,wasn,wasnt,wasn't,way,we,we'd,well,we'll,went,were,we're,weren,werent,weren't,we've,what,whatever,what's,when,whence,whenever,where,whereafter,whereas,whereby,wherein,where's,whereupon,wherever,whether,which,while,who,whoever,whole,whom,who's,whose,why,will,willing,with,within,without,wo,woh,wohi,won,wont,won't,would,wouldn,wouldnt,wouldn't,y,ya,yadi,yah,yaha,yahaan,yahan,yahi,yahin,ye,yeah,yeh,yehi,yes,yet,you,you'd,you'll,your,you're,yours,yourself,yourselves,you've,yup,\""
      ],
      "execution_count": 0,
      "outputs": []
    },
    {
      "cell_type": "code",
      "metadata": {
        "id": "jPmZ8yiNgO4z",
        "colab_type": "code",
        "colab": {}
      },
      "source": [
        "stop_hindi=stopwords_hindi.split(',')"
      ],
      "execution_count": 0,
      "outputs": []
    },
    {
      "cell_type": "code",
      "metadata": {
        "id": "5med7wkQgX5Q",
        "colab_type": "code",
        "colab": {}
      },
      "source": [
        ""
      ],
      "execution_count": 0,
      "outputs": []
    },
    {
      "cell_type": "code",
      "metadata": {
        "id": "3CG-IO-KYqgU",
        "colab_type": "code",
        "colab": {}
      },
      "source": [
        "import collections\n",
        "import numpy as np\n",
        "import matplotlib.pyplot as plt\n",
        "from matplotlib import rcParams\n",
        "from wordcloud import WordCloud,STOPWORDS"
      ],
      "execution_count": 0,
      "outputs": []
    },
    {
      "cell_type": "code",
      "metadata": {
        "id": "8AsM-GW7Za4Q",
        "colab_type": "code",
        "colab": {}
      },
      "source": [
        "from sklearn.feature_extraction.stop_words import ENGLISH_STOP_WORDS\n",
        "import itertools, string, operator, re, unicodedata, nltk\n",
        "from operator import itemgetter\n",
        "from nltk.corpus import wordnet\n",
        "from nltk.stem import WordNetLemmatizer\n",
        "from nltk.tokenize import TweetTokenizer, RegexpTokenizer\n",
        "import nltk.tokenize\n",
        "import numpy as np\n",
        "from itertools import combinations\n",
        "from gensim.models import Phrases\n",
        "from collections import Counter\n",
        "\n",
        "#Contraction map\n",
        "c_dict = {\n",
        "  \"ain't\": \"am not\",\n",
        "  \"aren't\": \"are not\",\n",
        "  \"can't\": \"cannot\",\n",
        "  \"can't've\": \"cannot have\",\n",
        "  \"'cause\": \"because\",\n",
        "  \"could've\": \"could have\",\n",
        "  \"couldn't\": \"could not\",\n",
        "  \"couldn't've\": \"could not have\",\n",
        "  \"didn't\": \"did not\",\n",
        "  \"doesn't\": \"does not\",\n",
        "  \"don't\": \"do not\",\n",
        "  \"hadn't\": \"had not\",\n",
        "  \"hadn't've\": \"had not have\",\n",
        "  \"hasn't\": \"has not\",\n",
        "  \"haven't\": \"have not\",\n",
        "  \"he'd\": \"he would\",\n",
        "  \"he'd've\": \"he would have\",\n",
        "  \"he'll\": \"he will\",\n",
        "  \"he'll've\": \"he will have\",\n",
        "  \"he's\": \"he is\",\n",
        "  \"how'd\": \"how did\",\n",
        "  \"how'd'y\": \"how do you\",\n",
        "  \"how'll\": \"how will\",\n",
        "  \"how's\": \"how is\",\n",
        "  \"i'd\": \"I would\",\n",
        "  \"i'd've\": \"I would have\",\n",
        "  \"i'll\": \"I will\",\n",
        "  \"i'll've\": \"I will have\",\n",
        "  \"i'm\": \"I am\",\n",
        "  \"i've\": \"I have\",\n",
        "  \"isn't\": \"is not\",\n",
        "  \"it'd\": \"it had\",\n",
        "  \"it'd've\": \"it would have\",\n",
        "  \"it'll\": \"it will\",\n",
        "  \"it'll've\": \"it will have\",\n",
        "  \"it's\": \"it is\",\n",
        "  \"let's\": \"let us\",\n",
        "  \"ma'am\": \"madam\",\n",
        "  \"mayn't\": \"may not\",\n",
        "  \"might've\": \"might have\",\n",
        "  \"mightn't\": \"might not\",\n",
        "  \"mightn't've\": \"might not have\",\n",
        "  \"must've\": \"must have\",\n",
        "  \"mustn't\": \"must not\",\n",
        "  \"mustn't've\": \"must not have\",\n",
        "  \"needn't\": \"need not\",\n",
        "  \"needn't've\": \"need not have\",\n",
        "  \"o'clock\": \"of the clock\",\n",
        "  \"oughtn't\": \"ought not\",\n",
        "  \"oughtn't've\": \"ought not have\",\n",
        "  \"shan't\": \"shall not\",\n",
        "  \"sha'n't\": \"shall not\",\n",
        "  \"shan't've\": \"shall not have\",\n",
        "  \"she'd\": \"she would\",\n",
        "  \"she'd've\": \"she would have\",\n",
        "  \"she'll\": \"she will\",\n",
        "  \"she'll've\": \"she will have\",\n",
        "  \"she's\": \"she is\",\n",
        "  \"should've\": \"should have\",\n",
        "  \"shouldn't\": \"should not\",\n",
        "  \"shouldn't've\": \"should not have\",\n",
        "  \"so've\": \"so have\",\n",
        "  \"so's\": \"so is\",\n",
        "  \"that'd\": \"that would\",\n",
        "  \"that'd've\": \"that would have\",\n",
        "  \"that's\": \"that is\",\n",
        "  \"there'd\": \"there had\",\n",
        "  \"there'd've\": \"there would have\",\n",
        "  \"there's\": \"there is\",\n",
        "  \"they'd\": \"they would\",\n",
        "  \"they'd've\": \"they would have\",\n",
        "  \"they'll\": \"they will\",\n",
        "  \"they'll've\": \"they will have\",\n",
        "  \"they're\": \"they are\",\n",
        "  \"they've\": \"they have\",\n",
        "  \"to've\": \"to have\",\n",
        "  \"wasn't\": \"was not\",\n",
        "  \"we'd\": \"we had\",\n",
        "  \"we'd've\": \"we would have\",\n",
        "  \"we'll\": \"we will\",\n",
        "  \"we'll've\": \"we will have\",\n",
        "  \"we're\": \"we are\",\n",
        "  \"we've\": \"we have\",\n",
        "  \"weren't\": \"were not\",\n",
        "  \"what'll\": \"what will\",\n",
        "  \"what'll've\": \"what will have\",\n",
        "  \"what're\": \"what are\",\n",
        "  \"what's\": \"what is\",\n",
        "  \"what've\": \"what have\",\n",
        "  \"when's\": \"when is\",\n",
        "  \"when've\": \"when have\",\n",
        "  \"where'd\": \"where did\",\n",
        "  \"where's\": \"where is\",\n",
        "  \"where've\": \"where have\",\n",
        "  \"who'll\": \"who will\",\n",
        "  \"who'll've\": \"who will have\",\n",
        "  \"who's\": \"who is\",\n",
        "  \"who've\": \"who have\",\n",
        "  \"why's\": \"why is\",\n",
        "  \"why've\": \"why have\",\n",
        "  \"will've\": \"will have\",\n",
        "  \"won't\": \"will not\",\n",
        "  \"won't've\": \"will not have\",\n",
        "  \"would've\": \"would have\",\n",
        "  \"wouldn't\": \"would not\",\n",
        "  \"wouldn't've\": \"would not have\",\n",
        "  \"y'all\": \"you all\",\n",
        "  \"y'alls\": \"you alls\",\n",
        "  \"y'all'd\": \"you all would\",\n",
        "  \"y'all'd've\": \"you all would have\",\n",
        "  \"y'all're\": \"you all are\",\n",
        "  \"y'all've\": \"you all have\",\n",
        "  \"you'd\": \"you had\",\n",
        "  \"you'd've\": \"you would have\",\n",
        "  \"you'll\": \"you you will\",\n",
        "  \"you'll've\": \"you you will have\",\n",
        "  \"you're\": \"you are\",\n",
        "  \"you've\": \"you have\"\n",
        "}\n",
        "add_stop = ['nahi','raha','hai','ke','liye'\n",
        "            '', ' ', 'say','pnr', 's', 'u', 'ap', 'afp', '...', 'n', '\\\\','..']\n",
        "\n",
        "stop_words = ENGLISH_STOP_WORDS.union(add_stop,stop_hindi)"
      ],
      "execution_count": 0,
      "outputs": []
    },
    {
      "cell_type": "code",
      "metadata": {
        "id": "LIJ7QemkbFd6",
        "colab_type": "code",
        "colab": {}
      },
      "source": [
        "\n",
        "\n",
        "lemmatizer = WordNetLemmatizer()\n",
        "punc = list(set(string.punctuation))\n",
        "tokenizer = TweetTokenizer()\n",
        "def casual_tokenizer(text): #Splits words on white spaces (leaves contractions intact) and splits out trailing punctuation\n",
        "    tokens = tokenizer.tokenize(text)\n",
        "    return tokens\n"
      ],
      "execution_count": 0,
      "outputs": []
    },
    {
      "cell_type": "code",
      "metadata": {
        "id": "uTggO779bM8n",
        "colab_type": "code",
        "colab": {}
      },
      "source": [
        "def casual_tokenizer(text): #Splits words on white spaces (leaves contractions intact) and splits out trailing punctuation\n",
        "    tokens = tokenizer.tokenize(text)\n",
        "    return tokens"
      ],
      "execution_count": 0,
      "outputs": []
    },
    {
      "cell_type": "code",
      "metadata": {
        "id": "8lFN-I-ZbdH7",
        "colab_type": "code",
        "colab": {}
      },
      "source": [
        "def get_word_net_pos(treebank_tag):\n",
        "    if treebank_tag.startswith('J'):\n",
        "        return wordnet.ADJ\n",
        "    elif treebank_tag.startswith('V'):\n",
        "        return wordnet.VERB\n",
        "    elif treebank_tag.startswith('N'):\n",
        "        return wordnet.NOUN\n",
        "    elif treebank_tag.startswith('R'):\n",
        "        return wordnet.ADV\n",
        "    else:\n",
        "        return None"
      ],
      "execution_count": 0,
      "outputs": []
    },
    {
      "cell_type": "code",
      "metadata": {
        "id": "BJ5QMEWNbfN1",
        "colab_type": "code",
        "colab": {}
      },
      "source": [
        "def lemma_wordnet(tagged_text):\n",
        "    final = []\n",
        "    for word, tag in tagged_text:\n",
        "        wordnet_tag = get_word_net_pos(tag)\n",
        "        if wordnet_tag is None:\n",
        "            final.append(\n",
        "                lemmatizer.lemmatize(word))\n",
        "        else:\n",
        "            final.append(lemmatizer.lemmatize(word, pos=wordnet_tag))\n",
        "    return final"
      ],
      "execution_count": 0,
      "outputs": []
    },
    {
      "cell_type": "code",
      "metadata": {
        "id": "7QxkoS6qbi1X",
        "colab_type": "code",
        "colab": {}
      },
      "source": [
        "c_re = re.compile('(%s)' % '|'.join(c_dict.keys()))\n",
        "def expandContractions(text, c_re=c_re):\n",
        "    def replace(match):\n",
        "        return c_dict[match.group(0)]\n",
        "    return c_re.sub(replace, text)"
      ],
      "execution_count": 0,
      "outputs": []
    },
    {
      "cell_type": "code",
      "metadata": {
        "id": "l7AQuh0LbqAu",
        "colab_type": "code",
        "colab": {}
      },
      "source": [
        "def process_text(text):\n",
        "    \n",
        "    tokenized = casual_tokenizer(text)\n",
        "    lower = [item.lower() for item in tokenized]\n",
        "    decontract = [expandContractions(item, c_re=c_re) for item in lower]\n",
        "    tagged = nltk.pos_tag(decontract)\n",
        "    lemma = lemma_wordnet(tagged)\n",
        "    no_num = [re.sub('[0-9]+', '', each) for each in lemma]\n",
        "    no_punc = [w for w in no_num if w not in punc]\n",
        "    no_stop = [w for w in no_punc if w not in stop_words]\n",
        "    cleaned=[w for w in no_stop if len(w)>1]\n",
        "    text_new=\" \".join(cleaned)\n",
        "    return text_new"
      ],
      "execution_count": 0,
      "outputs": []
    },
    {
      "cell_type": "code",
      "metadata": {
        "id": "06-205S6hic1",
        "colab_type": "code",
        "colab": {
          "base_uri": "https://localhost:8080/",
          "height": 146
        },
        "outputId": "ef5718bb-444c-413d-9332-65b1d723e8d8"
      },
      "source": [
        "nltk.download('averaged_perceptron_tagger')\n",
        "nltk.download('wordnet')"
      ],
      "execution_count": 64,
      "outputs": [
        {
          "output_type": "stream",
          "text": [
            "[nltk_data] Downloading package averaged_perceptron_tagger to\n",
            "[nltk_data]     /root/nltk_data...\n",
            "[nltk_data]   Package averaged_perceptron_tagger is already up-to-\n",
            "[nltk_data]       date!\n",
            "[nltk_data] Downloading package wordnet to /root/nltk_data...\n",
            "[nltk_data]   Unzipping corpora/wordnet.zip.\n"
          ],
          "name": "stdout"
        },
        {
          "output_type": "execute_result",
          "data": {
            "text/plain": [
              "True"
            ]
          },
          "metadata": {
            "tags": []
          },
          "execution_count": 64
        }
      ]
    },
    {
      "cell_type": "code",
      "metadata": {
        "id": "cVloFswfhEAn",
        "colab_type": "code",
        "colab": {
          "base_uri": "https://localhost:8080/",
          "height": 206
        },
        "outputId": "0375f88c-eb42-4f8e-ed8c-185a04896b6a"
      },
      "source": [
        "df['clean_text'] = df['Text'].apply(process_text)\n",
        "df.head()"
      ],
      "execution_count": 65,
      "outputs": [
        {
          "output_type": "execute_result",
          "data": {
            "text/html": [
              "<div>\n",
              "<style scoped>\n",
              "    .dataframe tbody tr th:only-of-type {\n",
              "        vertical-align: middle;\n",
              "    }\n",
              "\n",
              "    .dataframe tbody tr th {\n",
              "        vertical-align: top;\n",
              "    }\n",
              "\n",
              "    .dataframe thead th {\n",
              "        text-align: right;\n",
              "    }\n",
              "</style>\n",
              "<table border=\"1\" class=\"dataframe\">\n",
              "  <thead>\n",
              "    <tr style=\"text-align: right;\">\n",
              "      <th></th>\n",
              "      <th>Text</th>\n",
              "      <th>Complaint</th>\n",
              "      <th>complaint_id</th>\n",
              "      <th>clean_text</th>\n",
              "    </tr>\n",
              "  </thead>\n",
              "  <tbody>\n",
              "    <tr>\n",
              "      <th>1</th>\n",
              "      <td>Sr. Citizen discount fare in tatkal sewa from ...</td>\n",
              "      <td>Reservation/Enquiry_Office Issues</td>\n",
              "      <td>11</td>\n",
              "      <td>sr citizen discount fare tatkal sewa jammu delhi</td>\n",
              "    </tr>\n",
              "    <tr>\n",
              "      <th>2</th>\n",
              "      <td>RATS ARE PRESENT IN COACH B1 OF TRAIN NUMBER 1...</td>\n",
              "      <td>Maintenance / Cleanliness</td>\n",
              "      <td>7</td>\n",
              "      <td>rat present coach train number ranakpur expres...</td>\n",
              "    </tr>\n",
              "    <tr>\n",
              "      <th>3</th>\n",
              "      <td>12003 coach e1 toilet no 3 leaking vinay pnr 2...</td>\n",
              "      <td>Maintenance / Cleanliness</td>\n",
              "      <td>7</td>\n",
              "      <td>coach toilet leak vinay</td>\n",
              "    </tr>\n",
              "    <tr>\n",
              "      <th>7</th>\n",
              "      <td>Train no . 12321 pnr no 6122312493 complain _ ...</td>\n",
              "      <td>Catering and Vending Services</td>\n",
              "      <td>3</td>\n",
              "      <td>train complain pentry car meal prize rs.mirind...</td>\n",
              "    </tr>\n",
              "    <tr>\n",
              "      <th>8</th>\n",
              "      <td>Train no . 12321 pnr no 6122312493 complain _ ...</td>\n",
              "      <td>Catering and Vending Services</td>\n",
              "      <td>3</td>\n",
              "      <td>train complain pentry car meal prize rs.mirind...</td>\n",
              "    </tr>\n",
              "  </tbody>\n",
              "</table>\n",
              "</div>"
            ],
            "text/plain": [
              "                                                Text  ...                                         clean_text\n",
              "1  Sr. Citizen discount fare in tatkal sewa from ...  ...   sr citizen discount fare tatkal sewa jammu delhi\n",
              "2  RATS ARE PRESENT IN COACH B1 OF TRAIN NUMBER 1...  ...  rat present coach train number ranakpur expres...\n",
              "3  12003 coach e1 toilet no 3 leaking vinay pnr 2...  ...                            coach toilet leak vinay\n",
              "7  Train no . 12321 pnr no 6122312493 complain _ ...  ...  train complain pentry car meal prize rs.mirind...\n",
              "8  Train no . 12321 pnr no 6122312493 complain _ ...  ...  train complain pentry car meal prize rs.mirind...\n",
              "\n",
              "[5 rows x 4 columns]"
            ]
          },
          "metadata": {
            "tags": []
          },
          "execution_count": 65
        }
      ]
    },
    {
      "cell_type": "code",
      "metadata": {
        "id": "bxVUUuscjoCK",
        "colab_type": "code",
        "colab": {}
      },
      "source": [
        "df.to_csv('final_cleaned.csv')"
      ],
      "execution_count": 0,
      "outputs": []
    },
    {
      "cell_type": "code",
      "metadata": {
        "id": "FdG4KtaIhWPP",
        "colab_type": "code",
        "colab": {}
      },
      "source": [
        "'''from google.colab import files\n",
        "files.download('final_cleaned.csv')'''"
      ],
      "execution_count": 0,
      "outputs": []
    },
    {
      "cell_type": "code",
      "metadata": {
        "id": "UQF-egnbnrVj",
        "colab_type": "code",
        "colab": {}
      },
      "source": [
        "def word_freq(clean_text_list, top_n):\n",
        "    \"\"\"\n",
        "    Word Frequency\n",
        "    \"\"\"\n",
        "    flat = [item for sublist in clean_text_list for item in sublist]\n",
        "    with_counts = Counter(flat)\n",
        "    top = with_counts.most_common(top_n)\n",
        "    word = [each[0] for each in top]\n",
        "    num = [each[1] for each in top]\n",
        "    return pd.DataFrame([word, num]).T\n",
        "\n",
        "def word_freq_bigrams(clean_text_list, top_n):\n",
        "    \"\"\"\n",
        "    Word Frequency With Bigrams\n",
        "    \"\"\"\n",
        "    bigram_model = Phrases(clean_text_list, min_count=2, threshold=1)\n",
        "    w_bigrams = list(bigram_model[clean_text_list])\n",
        "    flat_w_bigrams = [item for sublist in w_bigrams for item in sublist]\n",
        "    with_counts = Counter(flat_w_bigrams)\n",
        "    top = with_counts.most_common(top_n)\n",
        "    word = [each[0] for each in top]\n",
        "    num = [each[1] for each in top]\n",
        "    return pd.DataFrame([word, num]).T\n",
        "\n",
        "\n",
        "def bigram_freq(clean_text_list, top_n):\n",
        "    bigram_model = Phrases(clean_text_list, min_count=2, threshold=1)\n",
        "    w_bigrams = list(bigram_model[clean_text_list])\n",
        "    flat_w_bigrams = [item for sublist in w_bigrams for item in sublist]\n",
        "    bigrams = []\n",
        "    for each in flat_w_bigrams:\n",
        "        if '_' in each:\n",
        "            bigrams.append(each)\n",
        "    counts = Counter(bigrams)\n",
        "    top = counts.most_common(top_n)\n",
        "    word = [each[0] for each in top]\n",
        "    num = [each[1] for each in top]\n",
        "    return pd.DataFrame([word, num]).T"
      ],
      "execution_count": 0,
      "outputs": []
    },
    {
      "cell_type": "code",
      "metadata": {
        "id": "LZM9ih6_lO90",
        "colab_type": "code",
        "colab": {
          "base_uri": "https://localhost:8080/",
          "height": 677
        },
        "outputId": "fdfa42b5-30ac-46ea-cc4b-950d2b44e126"
      },
      "source": [
        "##Top 20 most frequent words for all the articles\n",
        "def reverse_str(text):\n",
        "    return str(text).split(' ')\n",
        "df['clean_list']=df['clean_text'].apply(reverse_str)\n",
        "cl_text_list = df['clean_list'].tolist()\n",
        "wf = word_freq(cl_text_list, 100)\n",
        "wf.head(20)"
      ],
      "execution_count": 72,
      "outputs": [
        {
          "output_type": "execute_result",
          "data": {
            "text/html": [
              "<div>\n",
              "<style scoped>\n",
              "    .dataframe tbody tr th:only-of-type {\n",
              "        vertical-align: middle;\n",
              "    }\n",
              "\n",
              "    .dataframe tbody tr th {\n",
              "        vertical-align: top;\n",
              "    }\n",
              "\n",
              "    .dataframe thead th {\n",
              "        text-align: right;\n",
              "    }\n",
              "</style>\n",
              "<table border=\"1\" class=\"dataframe\">\n",
              "  <thead>\n",
              "    <tr style=\"text-align: right;\">\n",
              "      <th></th>\n",
              "      <th>0</th>\n",
              "      <th>1</th>\n",
              "    </tr>\n",
              "  </thead>\n",
              "  <tbody>\n",
              "    <tr>\n",
              "      <th>0</th>\n",
              "      <td>train</td>\n",
              "      <td>215372</td>\n",
              "    </tr>\n",
              "    <tr>\n",
              "      <th>1</th>\n",
              "      <td>coach</td>\n",
              "      <td>95811</td>\n",
              "    </tr>\n",
              "    <tr>\n",
              "      <th>2</th>\n",
              "      <td>travel</td>\n",
              "      <td>41415</td>\n",
              "    </tr>\n",
              "    <tr>\n",
              "      <th>3</th>\n",
              "      <td>sir</td>\n",
              "      <td>41330</td>\n",
              "    </tr>\n",
              "    <tr>\n",
              "      <th>4</th>\n",
              "      <td>seat</td>\n",
              "      <td>40287</td>\n",
              "    </tr>\n",
              "    <tr>\n",
              "      <th>5</th>\n",
              "      <td>water</td>\n",
              "      <td>39545</td>\n",
              "    </tr>\n",
              "    <tr>\n",
              "      <th>6</th>\n",
              "      <td>work</td>\n",
              "      <td>36186</td>\n",
              "    </tr>\n",
              "    <tr>\n",
              "      <th>7</th>\n",
              "      <td>station</td>\n",
              "      <td>36147</td>\n",
              "    </tr>\n",
              "    <tr>\n",
              "      <th>8</th>\n",
              "      <td>toilet</td>\n",
              "      <td>33638</td>\n",
              "    </tr>\n",
              "    <tr>\n",
              "      <th>9</th>\n",
              "      <td>ac</td>\n",
              "      <td>31208</td>\n",
              "    </tr>\n",
              "    <tr>\n",
              "      <th>10</th>\n",
              "      <td>passenger</td>\n",
              "      <td>30017</td>\n",
              "    </tr>\n",
              "    <tr>\n",
              "      <th>11</th>\n",
              "      <td>express</td>\n",
              "      <td>28745</td>\n",
              "    </tr>\n",
              "    <tr>\n",
              "      <th>12</th>\n",
              "      <td>number</td>\n",
              "      <td>28516</td>\n",
              "    </tr>\n",
              "    <tr>\n",
              "      <th>13</th>\n",
              "      <td>late</td>\n",
              "      <td>28361</td>\n",
              "    </tr>\n",
              "    <tr>\n",
              "      <th>14</th>\n",
              "      <td>ticket</td>\n",
              "      <td>25238</td>\n",
              "    </tr>\n",
              "    <tr>\n",
              "      <th>15</th>\n",
              "      <td>time</td>\n",
              "      <td>23678</td>\n",
              "    </tr>\n",
              "    <tr>\n",
              "      <th>16</th>\n",
              "      <td>--</td>\n",
              "      <td>22855</td>\n",
              "    </tr>\n",
              "    <tr>\n",
              "      <th>17</th>\n",
              "      <td>railway</td>\n",
              "      <td>21944</td>\n",
              "    </tr>\n",
              "    <tr>\n",
              "      <th>18</th>\n",
              "      <td>date</td>\n",
              "      <td>21035</td>\n",
              "    </tr>\n",
              "    <tr>\n",
              "      <th>19</th>\n",
              "      <td>complaint</td>\n",
              "      <td>20907</td>\n",
              "    </tr>\n",
              "  </tbody>\n",
              "</table>\n",
              "</div>"
            ],
            "text/plain": [
              "            0       1\n",
              "0       train  215372\n",
              "1       coach   95811\n",
              "2      travel   41415\n",
              "3         sir   41330\n",
              "4        seat   40287\n",
              "5       water   39545\n",
              "6        work   36186\n",
              "7     station   36147\n",
              "8      toilet   33638\n",
              "9          ac   31208\n",
              "10  passenger   30017\n",
              "11    express   28745\n",
              "12     number   28516\n",
              "13       late   28361\n",
              "14     ticket   25238\n",
              "15       time   23678\n",
              "16         --   22855\n",
              "17    railway   21944\n",
              "18       date   21035\n",
              "19  complaint   20907"
            ]
          },
          "metadata": {
            "tags": []
          },
          "execution_count": 72
        }
      ]
    },
    {
      "cell_type": "code",
      "metadata": {
        "id": "syn0_0OBnody",
        "colab_type": "code",
        "colab": {}
      },
      "source": [
        "def change(list1):\n",
        "    fullstr=\"\"\n",
        "    for list2 in list1:\n",
        "        for word in list2:\n",
        "            fullstr+=word\n",
        "            fullstr+=\" \"\n",
        "    return fullstr\n",
        "cl_text_str=change(cl_text_list)"
      ],
      "execution_count": 0,
      "outputs": []
    },
    {
      "cell_type": "code",
      "metadata": {
        "id": "wUyvNC0Qn30E",
        "colab_type": "code",
        "colab": {
          "base_uri": "https://localhost:8080/",
          "height": 35
        },
        "outputId": "9e4abc70-52bd-4255-b798-e97bb1f1105e"
      },
      "source": [
        "cl_text_str[:100]"
      ],
      "execution_count": 77,
      "outputs": [
        {
          "output_type": "execute_result",
          "data": {
            "text/plain": [
              "'sr citizen discount fare tatkal sewa jammu delhi rat present coach train number ranakpur express run'"
            ]
          },
          "metadata": {
            "tags": []
          },
          "execution_count": 77
        }
      ]
    },
    {
      "cell_type": "code",
      "metadata": {
        "id": "IZ_8Pb56n7FD",
        "colab_type": "code",
        "colab": {}
      },
      "source": [
        "import collections\n",
        "import numpy as np\n",
        "import matplotlib.pyplot as plt\n",
        "from matplotlib import rcParams\n",
        "from wordcloud import WordCloud,STOPWORDS"
      ],
      "execution_count": 0,
      "outputs": []
    },
    {
      "cell_type": "code",
      "metadata": {
        "id": "BLLcj9ryn_5q",
        "colab_type": "code",
        "colab": {}
      },
      "source": [
        "stopwords=STOPWORDS\n",
        "wordclouds=WordCloud(stopwords=stopwords,background_color=\"white\",max_words=1000,collocations = False).generate(cl_text_str)"
      ],
      "execution_count": 0,
      "outputs": []
    },
    {
      "cell_type": "code",
      "metadata": {
        "id": "qTaUNeWXoFfj",
        "colab_type": "code",
        "colab": {
          "base_uri": "https://localhost:8080/",
          "height": 310
        },
        "outputId": "ce4e216c-7886-4db1-e4a9-02e46c3827c0"
      },
      "source": [
        "rcParams['figure.figsize'] = 10, 20\n",
        "plt.imshow(wordclouds)\n",
        "plt.axis(\"off\")\n",
        "plt.savefig('latest.jpeg')\n",
        "plt.show()"
      ],
      "execution_count": 80,
      "outputs": [
        {
          "output_type": "display_data",
          "data": {
            "image/png": "[encoded data removed]",
            "text/plain": [
              "<Figure size 720x1440 with 1 Axes>"
            ]
          },
          "metadata": {
            "tags": [],
            "needs_background": "light"
          }
        }
      ]
    },
    {
      "cell_type": "code",
      "metadata": {
        "id": "byOWGRb-oLSp",
        "colab_type": "code",
        "colab": {}
      },
      "source": [
        "def word_count(text):\n",
        "    return len(str(text).split(' '))"
      ],
      "execution_count": 0,
      "outputs": []
    },
    {
      "cell_type": "code",
      "metadata": {
        "id": "B429eh8mok7P",
        "colab_type": "code",
        "colab": {
          "base_uri": "https://localhost:8080/",
          "height": 489
        },
        "outputId": "294be69e-d32f-4a8f-a0b6-c0160bd489ff"
      },
      "source": [
        "df['word_count'] = df['Text'].apply(word_count)\n",
        "avg_wc = df.groupby('Complaint').mean().reset_index()\n",
        "avg_wc[['Complaint','word_count']]"
      ],
      "execution_count": 82,
      "outputs": [
        {
          "output_type": "execute_result",
          "data": {
            "text/html": [
              "<div>\n",
              "<style scoped>\n",
              "    .dataframe tbody tr th:only-of-type {\n",
              "        vertical-align: middle;\n",
              "    }\n",
              "\n",
              "    .dataframe tbody tr th {\n",
              "        vertical-align: top;\n",
              "    }\n",
              "\n",
              "    .dataframe thead th {\n",
              "        text-align: right;\n",
              "    }\n",
              "</style>\n",
              "<table border=\"1\" class=\"dataframe\">\n",
              "  <thead>\n",
              "    <tr style=\"text-align: right;\">\n",
              "      <th></th>\n",
              "      <th>Complaint</th>\n",
              "      <th>word_count</th>\n",
              "    </tr>\n",
              "  </thead>\n",
              "  <tbody>\n",
              "    <tr>\n",
              "      <th>0</th>\n",
              "      <td>Bedroll Complaints</td>\n",
              "      <td>34.673358</td>\n",
              "    </tr>\n",
              "    <tr>\n",
              "      <th>1</th>\n",
              "      <td>Booking of Luggage / Parcels / Goods</td>\n",
              "      <td>44.880240</td>\n",
              "    </tr>\n",
              "    <tr>\n",
              "      <th>2</th>\n",
              "      <td>Bribery and corruption</td>\n",
              "      <td>55.412698</td>\n",
              "    </tr>\n",
              "    <tr>\n",
              "      <th>3</th>\n",
              "      <td>Catering and Vending Services</td>\n",
              "      <td>40.425129</td>\n",
              "    </tr>\n",
              "    <tr>\n",
              "      <th>4</th>\n",
              "      <td>Emergency Assistance</td>\n",
              "      <td>33.884921</td>\n",
              "    </tr>\n",
              "    <tr>\n",
              "      <th>5</th>\n",
              "      <td>Feedback/Suggestions</td>\n",
              "      <td>42.784749</td>\n",
              "    </tr>\n",
              "    <tr>\n",
              "      <th>6</th>\n",
              "      <td>Improper behaviour of non railway/railway staff</td>\n",
              "      <td>55.269149</td>\n",
              "    </tr>\n",
              "    <tr>\n",
              "      <th>7</th>\n",
              "      <td>Maintenance / Cleanliness</td>\n",
              "      <td>28.856112</td>\n",
              "    </tr>\n",
              "    <tr>\n",
              "      <th>8</th>\n",
              "      <td>Malfunctioning of Electrical Equipment</td>\n",
              "      <td>25.293488</td>\n",
              "    </tr>\n",
              "    <tr>\n",
              "      <th>9</th>\n",
              "      <td>Non availability of Water Sub</td>\n",
              "      <td>23.947808</td>\n",
              "    </tr>\n",
              "    <tr>\n",
              "      <th>10</th>\n",
              "      <td>Punctuality of Train</td>\n",
              "      <td>35.740213</td>\n",
              "    </tr>\n",
              "    <tr>\n",
              "      <th>11</th>\n",
              "      <td>Reservation/Enquiry_Office Issues</td>\n",
              "      <td>43.017753</td>\n",
              "    </tr>\n",
              "    <tr>\n",
              "      <th>12</th>\n",
              "      <td>Thefts / Pilferages</td>\n",
              "      <td>51.102913</td>\n",
              "    </tr>\n",
              "    <tr>\n",
              "      <th>13</th>\n",
              "      <td>Unauthorised passengers in coaches</td>\n",
              "      <td>40.217812</td>\n",
              "    </tr>\n",
              "  </tbody>\n",
              "</table>\n",
              "</div>"
            ],
            "text/plain": [
              "                                          Complaint  word_count\n",
              "0                                Bedroll Complaints   34.673358\n",
              "1              Booking of Luggage / Parcels / Goods   44.880240\n",
              "2                            Bribery and corruption   55.412698\n",
              "3                     Catering and Vending Services   40.425129\n",
              "4                              Emergency Assistance   33.884921\n",
              "5                              Feedback/Suggestions   42.784749\n",
              "6   Improper behaviour of non railway/railway staff   55.269149\n",
              "7                         Maintenance / Cleanliness   28.856112\n",
              "8            Malfunctioning of Electrical Equipment   25.293488\n",
              "9                     Non availability of Water Sub   23.947808\n",
              "10                             Punctuality of Train   35.740213\n",
              "11                Reservation/Enquiry_Office Issues   43.017753\n",
              "12                              Thefts / Pilferages   51.102913\n",
              "13               Unauthorised passengers in coaches   40.217812"
            ]
          },
          "metadata": {
            "tags": []
          },
          "execution_count": 82
        }
      ]
    },
    {
      "cell_type": "code",
      "metadata": {
        "id": "gmQSvDnzorDH",
        "colab_type": "code",
        "colab": {
          "base_uri": "https://localhost:8080/",
          "height": 615
        },
        "outputId": "c8fcd067-20d7-490f-cfb6-e033c65882dd"
      },
      "source": [
        "import matplotlib.pyplot as plt\n",
        "fig=plt.figure(figsize=(8,6))\n",
        "df.groupby('Complaint').Text.count().plot.bar(ylim=0)\n",
        "plt.savefig('LatestBar.jpeg')"
      ],
      "execution_count": 83,
      "outputs": [
        {
          "output_type": "display_data",
          "data": {
            "image/png": "[encoded data removed]",
            "text/plain": [
              "<Figure size 576x432 with 1 Axes>"
            ]
          },
          "metadata": {
            "tags": [],
            "needs_background": "light"
          }
        }
      ]
    },
    {
      "cell_type": "code",
      "metadata": {
        "id": "L-nC0iyTo4fG",
        "colab_type": "code",
        "colab": {
          "base_uri": "https://localhost:8080/",
          "height": 400
        },
        "outputId": "a8e0d5e6-94a3-41ce-b536-3d9fbb04b7b5"
      },
      "source": [
        "top_n=20\n",
        "bigrams1=bigram_freq(cl_text_list,100)\n",
        "bigrams1[:10]"
      ],
      "execution_count": 84,
      "outputs": [
        {
          "output_type": "stream",
          "text": [
            "/usr/local/lib/python3.6/dist-packages/gensim/models/phrases.py:598: UserWarning: For a faster implementation, use the gensim.models.phrases.Phraser class\n",
            "  warnings.warn(\"For a faster implementation, use the gensim.models.phrases.Phraser class\")\n"
          ],
          "name": "stderr"
        },
        {
          "output_type": "execute_result",
          "data": {
            "text/html": [
              "<div>\n",
              "<style scoped>\n",
              "    .dataframe tbody tr th:only-of-type {\n",
              "        vertical-align: middle;\n",
              "    }\n",
              "\n",
              "    .dataframe tbody tr th {\n",
              "        vertical-align: top;\n",
              "    }\n",
              "\n",
              "    .dataframe thead th {\n",
              "        text-align: right;\n",
              "    }\n",
              "</style>\n",
              "<table border=\"1\" class=\"dataframe\">\n",
              "  <thead>\n",
              "    <tr style=\"text-align: right;\">\n",
              "      <th></th>\n",
              "      <th>0</th>\n",
              "      <th>1</th>\n",
              "    </tr>\n",
              "  </thead>\n",
              "  <tbody>\n",
              "    <tr>\n",
              "      <th>0</th>\n",
              "      <td>train_number</td>\n",
              "      <td>12460</td>\n",
              "    </tr>\n",
              "    <tr>\n",
              "      <th>1</th>\n",
              "      <td>dear_sir</td>\n",
              "      <td>9113</td>\n",
              "    </tr>\n",
              "    <tr>\n",
              "      <th>2</th>\n",
              "      <td>train_doj</td>\n",
              "      <td>8647</td>\n",
              "    </tr>\n",
              "    <tr>\n",
              "      <th>3</th>\n",
              "      <td>coach_seat</td>\n",
              "      <td>8514</td>\n",
              "    </tr>\n",
              "    <tr>\n",
              "      <th>4</th>\n",
              "      <td>ac_work</td>\n",
              "      <td>7875</td>\n",
              "    </tr>\n",
              "    <tr>\n",
              "      <th>5</th>\n",
              "      <td>travel_train</td>\n",
              "      <td>7241</td>\n",
              "    </tr>\n",
              "    <tr>\n",
              "      <th>6</th>\n",
              "      <td>fan_work</td>\n",
              "      <td>7014</td>\n",
              "    </tr>\n",
              "    <tr>\n",
              "      <th>7</th>\n",
              "      <td>water_toilet</td>\n",
              "      <td>6433</td>\n",
              "    </tr>\n",
              "    <tr>\n",
              "      <th>8</th>\n",
              "      <td>train_run</td>\n",
              "      <td>6116</td>\n",
              "    </tr>\n",
              "    <tr>\n",
              "      <th>9</th>\n",
              "      <td>trn_dt</td>\n",
              "      <td>5297</td>\n",
              "    </tr>\n",
              "  </tbody>\n",
              "</table>\n",
              "</div>"
            ],
            "text/plain": [
              "              0      1\n",
              "0  train_number  12460\n",
              "1      dear_sir   9113\n",
              "2     train_doj   8647\n",
              "3    coach_seat   8514\n",
              "4       ac_work   7875\n",
              "5  travel_train   7241\n",
              "6      fan_work   7014\n",
              "7  water_toilet   6433\n",
              "8     train_run   6116\n",
              "9        trn_dt   5297"
            ]
          },
          "metadata": {
            "tags": []
          },
          "execution_count": 84
        }
      ]
    },
    {
      "cell_type": "code",
      "metadata": {
        "id": "2Rs-XD5Io-BI",
        "colab_type": "code",
        "colab": {
          "base_uri": "https://localhost:8080/",
          "height": 17
        },
        "outputId": "c9e4ba01-5c62-451d-c1e4-74db1ccfd193"
      },
      "source": [
        "import seaborn as sns\n",
        "from keras.preprocessing.text import Tokenizer\n",
        "from keras.preprocessing.sequence import pad_sequences\n",
        "from keras.models import Sequential\n",
        "from keras.layers import Dense,ConvLSTM2D, Embedding, LSTM, SpatialDropout1D\n",
        "from sklearn.model_selection import train_test_split\n",
        "from keras.utils.np_utils import to_categorical\n",
        "from keras.callbacks import EarlyStopping\n",
        "from keras.layers import Dropout\n",
        "import re\n",
        "from bs4 import BeautifulSoup\n",
        "import plotly.graph_objs as go\n",
        "import cufflinks\n",
        "from IPython.core.interactiveshell import InteractiveShell\n",
        "import plotly.figure_factory as ff\n",
        "InteractiveShell.ast_node_interactivity = 'all'\n",
        "from plotly.offline import iplot\n",
        "cufflinks.go_offline()\n",
        "cufflinks.set_config_file(world_readable=True, theme='pearl')"
      ],
      "execution_count": 118,
      "outputs": [
        {
          "output_type": "display_data",
          "data": {
            "text/html": [
              "        <script type=\"text/javascript\">\n",
              "        window.PlotlyConfig = {MathJaxConfig: 'local'};\n",
              "        if (window.MathJax) {MathJax.Hub.Config({SVG: {font: \"STIX-Web\"}});}\n",
              "        if (typeof require !== 'undefined') {\n",
              "        require.undef(\"plotly\");\n",
              "        requirejs.config({\n",
              "            paths: {\n",
              "                'plotly': ['https://cdn.plot.ly/plotly-latest.min']\n",
              "            }\n",
              "        });\n",
              "        require(['plotly'], function(Plotly) {\n",
              "            window._Plotly = Plotly;\n",
              "        });\n",
              "        }\n",
              "        </script>\n",
              "        "
            ]
          },
          "metadata": {
            "tags": []
          }
        }
      ]
    },
    {
      "cell_type": "code",
      "metadata": {
        "id": "p-d4Xjt-pY8Q",
        "colab_type": "code",
        "colab": {
          "base_uri": "https://localhost:8080/",
          "height": 35
        },
        "outputId": "425223c1-41fa-492c-8f9c-f0e574ff795b"
      },
      "source": [
        "\n",
        "\n",
        "# The maximum number of words to be used. (most frequent)\n",
        "MAX_NB_WORDS = 50000\n",
        "# Max number of words in each complaint.\n",
        "MAX_SEQUENCE_LENGTH = 250\n",
        "# This is fixed.\n",
        "EMBEDDING_DIM = 100\n",
        "\n",
        "tokenizer = Tokenizer(num_words=MAX_NB_WORDS, filters='!\"#$%&()*+,-./:;<=>?@[\\]^_`{|}~', lower=True)\n",
        "tokenizer.fit_on_texts(df['clean_text'].astype('str').values)\n",
        "word_index = tokenizer.word_index\n",
        "print('Found %s unique tokens.' % len(word_index))\n",
        "\n"
      ],
      "execution_count": 88,
      "outputs": [
        {
          "output_type": "stream",
          "text": [
            "Found 92461 unique tokens.\n"
          ],
          "name": "stdout"
        }
      ]
    },
    {
      "cell_type": "code",
      "metadata": {
        "id": "cJd-AbK6qB2-",
        "colab_type": "code",
        "colab": {
          "base_uri": "https://localhost:8080/",
          "height": 35
        },
        "outputId": "4dd1c171-15d7-472b-ef42-88bca3943f8f"
      },
      "source": [
        "X = tokenizer.texts_to_sequences(df['clean_text'].astype('str').values)\n",
        "X = pad_sequences(X, maxlen=MAX_SEQUENCE_LENGTH)\n",
        "print('Shape of data tensor:', X.shape)"
      ],
      "execution_count": 89,
      "outputs": [
        {
          "output_type": "stream",
          "text": [
            "Shape of data tensor: (219820, 250)\n"
          ],
          "name": "stdout"
        }
      ]
    },
    {
      "cell_type": "code",
      "metadata": {
        "id": "VBppzbsqqRJv",
        "colab_type": "code",
        "colab": {
          "base_uri": "https://localhost:8080/",
          "height": 35
        },
        "outputId": "24352495-3ed8-4d04-af5e-bbcedaa73260"
      },
      "source": [
        "Y = pd.get_dummies(df['Complaint']).values\n",
        "print('Shape of label tensor:', Y.shape)"
      ],
      "execution_count": 90,
      "outputs": [
        {
          "output_type": "stream",
          "text": [
            "Shape of label tensor: (219820, 14)\n"
          ],
          "name": "stdout"
        }
      ]
    },
    {
      "cell_type": "code",
      "metadata": {
        "id": "QiHfb6_UqUug",
        "colab_type": "code",
        "colab": {
          "base_uri": "https://localhost:8080/",
          "height": 54
        },
        "outputId": "d13dc997-1658-42a7-8c25-be0b46e5caf3"
      },
      "source": [
        "X_train, X_test, Y_train, Y_test = train_test_split(X,Y, test_size = 0.10, random_state = 42)\n",
        "print(X_train.shape,Y_train.shape)\n",
        "print(X_test.shape,Y_test.shape)"
      ],
      "execution_count": 91,
      "outputs": [
        {
          "output_type": "stream",
          "text": [
            "(197838, 250) (197838, 14)\n",
            "(21982, 250) (21982, 14)\n"
          ],
          "name": "stdout"
        }
      ]
    },
    {
      "cell_type": "code",
      "metadata": {
        "id": "rVBus1Qgqak3",
        "colab_type": "code",
        "colab": {
          "base_uri": "https://localhost:8080/",
          "height": 331
        },
        "outputId": "b546b41e-d9eb-4292-b2de-45c4287bc872"
      },
      "source": [
        "model = Sequential()\n",
        "model.add(Embedding(MAX_NB_WORDS, EMBEDDING_DIM, input_length=X.shape[1]))\n",
        "model.add(SpatialDropout1D(0.2))\n",
        "model.add(LSTM(100, dropout=0.2, recurrent_dropout=0.2))\n",
        "model.add(Dense(14, activation='softmax'))\n",
        "model.compile(loss='categorical_crossentropy', optimizer='adam', metrics=['accuracy'])\n",
        "print(model.summary())"
      ],
      "execution_count": 92,
      "outputs": [
        {
          "output_type": "stream",
          "text": [
            "Model: \"sequential_1\"\n",
            "_________________________________________________________________\n",
            "Layer (type)                 Output Shape              Param #   \n",
            "=================================================================\n",
            "embedding_1 (Embedding)      (None, 250, 100)          5000000   \n",
            "_________________________________________________________________\n",
            "spatial_dropout1d_1 (Spatial (None, 250, 100)          0         \n",
            "_________________________________________________________________\n",
            "lstm_1 (LSTM)                (None, 100)               80400     \n",
            "_________________________________________________________________\n",
            "dense_1 (Dense)              (None, 14)                1414      \n",
            "=================================================================\n",
            "Total params: 5,081,814\n",
            "Trainable params: 5,081,814\n",
            "Non-trainable params: 0\n",
            "_________________________________________________________________\n",
            "None\n"
          ],
          "name": "stdout"
        }
      ]
    },
    {
      "cell_type": "code",
      "metadata": {
        "id": "S53rea9zqe9x",
        "colab_type": "code",
        "colab": {
          "base_uri": "https://localhost:8080/",
          "height": 109
        },
        "outputId": "f9d9cdf2-e2ea-42eb-8e6a-a5c1edc088c2"
      },
      "source": [
        "from imblearn.over_sampling import SMOTE\n",
        "smote=SMOTE('minority')\n",
        "X_sm,y_sm=smote.fit_sample(X_train,Y_train)\n",
        "print(X_sm.shape,y_sm.shape)"
      ],
      "execution_count": 94,
      "outputs": [
        {
          "output_type": "stream",
          "text": [
            "/usr/local/lib/python3.6/dist-packages/sklearn/utils/deprecation.py:87: FutureWarning:\n",
            "\n",
            "Function safe_indexing is deprecated; safe_indexing is deprecated in version 0.22 and will be removed in version 0.24.\n",
            "\n"
          ],
          "name": "stderr"
        },
        {
          "output_type": "stream",
          "text": [
            "(237341, 250) (237341, 14)\n"
          ],
          "name": "stdout"
        }
      ]
    },
    {
      "cell_type": "code",
      "metadata": {
        "id": "-Pt6tjRKq6Zw",
        "colab_type": "code",
        "colab": {
          "base_uri": "https://localhost:8080/",
          "height": 294
        },
        "outputId": "928e0110-22c3-45ae-8ae8-5f98ba640de4"
      },
      "source": [
        "epochs = 5\n",
        "batch_size = 64\n",
        "\n",
        "history = model.fit(X_sm, y_sm, epochs=epochs, batch_size=batch_size,validation_split=0.1,callbacks=[EarlyStopping(monitor='val_loss', patience=3, min_delta=0.0001)])"
      ],
      "execution_count": 95,
      "outputs": [
        {
          "output_type": "stream",
          "text": [
            "/usr/local/lib/python3.6/dist-packages/tensorflow/python/framework/indexed_slices.py:434: UserWarning:\n",
            "\n",
            "Converting sparse IndexedSlices to a dense Tensor of unknown shape. This may consume a large amount of memory.\n",
            "\n"
          ],
          "name": "stderr"
        },
        {
          "output_type": "stream",
          "text": [
            "Train on 213606 samples, validate on 23735 samples\n",
            "Epoch 1/5\n",
            "213606/213606 [==============================] - 2987s 14ms/step - loss: 0.6660 - accuracy: 0.8002 - val_loss: 0.7849 - val_accuracy: 0.7387\n",
            "Epoch 2/5\n",
            "213606/213606 [==============================] - 2905s 14ms/step - loss: 0.3911 - accuracy: 0.8830 - val_loss: 0.5416 - val_accuracy: 0.8249\n",
            "Epoch 3/5\n",
            "213606/213606 [==============================] - 2507s 12ms/step - loss: 0.3223 - accuracy: 0.9025 - val_loss: 0.5304 - val_accuracy: 0.8293\n",
            "Epoch 4/5\n",
            "213606/213606 [==============================] - 2644s 12ms/step - loss: 0.2810 - accuracy: 0.9143 - val_loss: 0.4640 - val_accuracy: 0.8555\n",
            "Epoch 5/5\n",
            "213606/213606 [==============================] - 2865s 13ms/step - loss: 0.2512 - accuracy: 0.9232 - val_loss: 0.5651 - val_accuracy: 0.8297\n"
          ],
          "name": "stdout"
        }
      ]
    },
    {
      "cell_type": "code",
      "metadata": {
        "id": "gKWnxU8ErQai",
        "colab_type": "code",
        "colab": {
          "base_uri": "https://localhost:8080/",
          "height": 91
        },
        "outputId": "7cebc23a-52c9-4858-c3e2-79e6b3bb618c"
      },
      "source": [
        "accr = model.evaluate(X_test,Y_test)\n",
        "print('Test set\\n  Loss: {:0.3f}\\n  Accuracy: {:0.3f}'.format(accr[0],accr[1]))"
      ],
      "execution_count": 96,
      "outputs": [
        {
          "output_type": "stream",
          "text": [
            "21982/21982 [==============================] - 44s 2ms/step\n",
            "Test set\n",
            "  Loss: 0.399\n",
            "  Accuracy: 0.883\n"
          ],
          "name": "stdout"
        }
      ]
    },
    {
      "cell_type": "code",
      "metadata": {
        "id": "6AciUWd1gw7P",
        "colab_type": "code",
        "colab": {}
      },
      "source": [
        "plt.title('Loss')\n",
        "plt.plot(history.history['loss'], label='train')\n",
        "plt.plot(history.history['val_loss'], label='test')\n",
        "plt.legend()\n",
        "plt.savefig('Loss_curve.jpeg')\n",
        "plt.show()"
      ],
      "execution_count": 0,
      "outputs": []
    },
    {
      "cell_type": "code",
      "metadata": {
        "id": "B7tWdruIhpAX",
        "colab_type": "code",
        "colab": {}
      },
      "source": [
        "plt.title('Accuracy')\n",
        "plt.plot(history.history['accuracy'], label='train')\n",
        "plt.plot(history.history['val_accuracy'], label='test')\n",
        "plt.legend()\n",
        "plt.savefig('Accuracy_curve.jpeg')\n",
        "plt.show();"
      ],
      "execution_count": 0,
      "outputs": []
    },
    {
      "cell_type": "code",
      "metadata": {
        "id": "4fIx5H21huB4",
        "colab_type": "code",
        "colab": {
          "base_uri": "https://localhost:8080/",
          "height": 35
        },
        "outputId": "a2102cd6-62f6-42a3-8b58-f348b84b60ab"
      },
      "source": [
        "y_pred=model.predict(X_test)\n",
        "y_pred=np.argmax(y_pred,axis=1)\n",
        "Y_test=np.argmax(Y_test,axis=1)\n",
        "print(Y_test.shape,y_pred.shape)"
      ],
      "execution_count": 100,
      "outputs": [
        {
          "output_type": "stream",
          "text": [
            "(21982,) (21982,)\n"
          ],
          "name": "stdout"
        }
      ]
    },
    {
      "cell_type": "code",
      "metadata": {
        "id": "T7nXcSaYkIMz",
        "colab_type": "code",
        "colab": {}
      },
      "source": [
        "from sklearn.metrics import confusion_matrix\n",
        "conf_mat=confusion_matrix(Y_test,y_pred)"
      ],
      "execution_count": 0,
      "outputs": []
    },
    {
      "cell_type": "code",
      "metadata": {
        "id": "d_uU7_EgkYSb",
        "colab_type": "code",
        "colab": {}
      },
      "source": [
        "def print_confusion_matrix(confusion_matrix, class_names, figsize = (40,30), fontsize=14):\n",
        "    df_cm = pd.DataFrame(\n",
        "        confusion_matrix, index=class_names, columns=class_names, \n",
        "    )\n",
        "    fig = plt.figure(figsize=figsize)\n",
        "    try:\n",
        "        heatmap = sns.heatmap(df_cm, annot=True, fmt=\"d\")\n",
        "    except ValueError:\n",
        "        raise ValueError(\"Confusion matrix values must be integers.\")\n",
        "    heatmap.yaxis.set_ticklabels(heatmap.yaxis.get_ticklabels(), rotation=0, ha='right', fontsize=fontsize)\n",
        "    heatmap.xaxis.set_ticklabels(heatmap.xaxis.get_ticklabels(), rotation=45, ha='right', fontsize=fontsize)\n",
        "    plt.ylabel('True label')\n",
        "    plt.xlabel('Predicted label')\n",
        "    plt.savefig('Latest_con_mat.jpeg')\n",
        "    return fig"
      ],
      "execution_count": 0,
      "outputs": []
    },
    {
      "cell_type": "code",
      "metadata": {
        "id": "2nYAMWlEkYim",
        "colab_type": "code",
        "colab": {}
      },
      "source": [
        "\n",
        "from sklearn.metrics import classification_report, confusion_matrix, accuracy_score\n",
        "un_arr=np.unique(df.Complaint.values)\n",
        "print_confusion_matrix(conf_mat,un_arr)"
      ],
      "execution_count": 0,
      "outputs": []
    },
    {
      "cell_type": "code",
      "metadata": {
        "id": "K8RItV_lkYdr",
        "colab_type": "code",
        "colab": {
          "base_uri": "https://localhost:8080/",
          "height": 405
        },
        "outputId": "8d771d68-d5e9-40d3-d7df-7a63ed21d995"
      },
      "source": [
        "print(classification_report(Y_test, y_pred,target_names=un_arr))"
      ],
      "execution_count": 108,
      "outputs": [
        {
          "output_type": "stream",
          "text": [
            "                                                 precision    recall  f1-score   support\n",
            "\n",
            "                             Bedroll Complaints       0.89      0.93      0.91       968\n",
            "           Booking of Luggage / Parcels / Goods       0.99      0.95      0.97       639\n",
            "                         Bribery and corruption       0.32      0.17      0.22        77\n",
            "                  Catering and Vending Services       0.92      0.93      0.93      1700\n",
            "                           Emergency Assistance       0.12      0.63      0.20        43\n",
            "                           Feedback/Suggestions       0.78      0.41      0.54       220\n",
            "Improper behaviour of non railway/railway staff       0.56      0.51      0.54       703\n",
            "                      Maintenance / Cleanliness       0.89      0.86      0.88      4326\n",
            "         Malfunctioning of Electrical Equipment       0.93      0.94      0.94      4382\n",
            "                  Non availability of Water Sub       0.87      0.91      0.89      2328\n",
            "                           Punctuality of Train       0.94      0.94      0.94      3942\n",
            "              Reservation/Enquiry_Office Issues       0.77      0.77      0.77      1183\n",
            "                            Thefts / Pilferages       0.92      0.87      0.90       157\n",
            "             Unauthorised passengers in coaches       0.85      0.85      0.85      1314\n",
            "\n",
            "                                       accuracy                           0.88     21982\n",
            "                                      macro avg       0.77      0.76      0.75     21982\n",
            "                                   weighted avg       0.89      0.88      0.88     21982\n",
            "\n"
          ],
          "name": "stdout"
        }
      ]
    },
    {
      "cell_type": "code",
      "metadata": {
        "id": "20Y7RQqwqy8x",
        "colab_type": "code",
        "colab": {}
      },
      "source": [
        ""
      ],
      "execution_count": 0,
      "outputs": []
    }
  ]
}